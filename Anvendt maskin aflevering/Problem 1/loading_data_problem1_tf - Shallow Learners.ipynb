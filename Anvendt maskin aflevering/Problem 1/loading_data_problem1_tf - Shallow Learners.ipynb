{
 "cells": [
  {
   "cell_type": "markdown",
   "metadata": {
    "id": "u2t2p6exLFHU"
   },
   "source": [
    "You should add the following libraries to the amlfall24 environment\n",
    "- pip install pyarrow datasets huggingface_hub transformers"
   ]
  },
  {
   "cell_type": "code",
   "execution_count": 1,
   "metadata": {
    "colab": {
     "base_uri": "https://localhost:8080/"
    },
    "executionInfo": {
     "elapsed": 5131,
     "status": "ok",
     "timestamp": 1738159939650,
     "user": {
      "displayName": "Christoffer Olsen",
      "userId": "05652060910169124290"
     },
     "user_tz": -60
    },
    "id": "i5IulQsbLR1a",
    "outputId": "9beae450-ef1e-4b3a-fd77-f593b48cc3b0"
   },
   "outputs": [
    {
     "name": "stdout",
     "output_type": "stream",
     "text": [
      "Requirement already satisfied: pyarrow in c:\\users\\cochr\\anaconda3\\lib\\site-packages (16.1.0)\n",
      "Requirement already satisfied: datasets in c:\\users\\cochr\\anaconda3\\lib\\site-packages (3.2.0)\n",
      "Requirement already satisfied: huggingface_hub in c:\\users\\cochr\\anaconda3\\lib\\site-packages (0.26.5)\n",
      "Requirement already satisfied: transformers in c:\\users\\cochr\\anaconda3\\lib\\site-packages (4.47.0)\n",
      "Requirement already satisfied: numpy>=1.16.6 in c:\\users\\cochr\\anaconda3\\lib\\site-packages (from pyarrow) (1.26.4)\n",
      "Requirement already satisfied: filelock in c:\\users\\cochr\\anaconda3\\lib\\site-packages (from datasets) (3.13.1)\n",
      "Requirement already satisfied: dill<0.3.9,>=0.3.0 in c:\\users\\cochr\\anaconda3\\lib\\site-packages (from datasets) (0.3.8)\n",
      "Requirement already satisfied: pandas in c:\\users\\cochr\\anaconda3\\lib\\site-packages (from datasets) (2.2.3)\n",
      "Requirement already satisfied: requests>=2.32.2 in c:\\users\\cochr\\anaconda3\\lib\\site-packages (from datasets) (2.32.3)\n",
      "Requirement already satisfied: tqdm>=4.66.3 in c:\\users\\cochr\\anaconda3\\lib\\site-packages (from datasets) (4.66.5)\n",
      "Requirement already satisfied: xxhash in c:\\users\\cochr\\anaconda3\\lib\\site-packages (from datasets) (3.5.0)\n",
      "Requirement already satisfied: multiprocess<0.70.17 in c:\\users\\cochr\\anaconda3\\lib\\site-packages (from datasets) (0.70.16)\n",
      "Requirement already satisfied: fsspec<=2024.9.0,>=2023.1.0 in c:\\users\\cochr\\anaconda3\\lib\\site-packages (from fsspec[http]<=2024.9.0,>=2023.1.0->datasets) (2024.6.1)\n",
      "Requirement already satisfied: aiohttp in c:\\users\\cochr\\anaconda3\\lib\\site-packages (from datasets) (3.10.5)\n",
      "Requirement already satisfied: packaging in c:\\users\\cochr\\anaconda3\\lib\\site-packages (from datasets) (24.1)\n",
      "Requirement already satisfied: pyyaml>=5.1 in c:\\users\\cochr\\anaconda3\\lib\\site-packages (from datasets) (6.0.1)\n",
      "Requirement already satisfied: typing-extensions>=3.7.4.3 in c:\\users\\cochr\\anaconda3\\lib\\site-packages (from huggingface_hub) (4.11.0)\n",
      "Requirement already satisfied: regex!=2019.12.17 in c:\\users\\cochr\\anaconda3\\lib\\site-packages (from transformers) (2024.9.11)\n",
      "Requirement already satisfied: tokenizers<0.22,>=0.21 in c:\\users\\cochr\\anaconda3\\lib\\site-packages (from transformers) (0.21.0)\n",
      "Requirement already satisfied: safetensors>=0.4.1 in c:\\users\\cochr\\anaconda3\\lib\\site-packages (from transformers) (0.4.5)\n",
      "Requirement already satisfied: aiohappyeyeballs>=2.3.0 in c:\\users\\cochr\\anaconda3\\lib\\site-packages (from aiohttp->datasets) (2.4.0)\n",
      "Requirement already satisfied: aiosignal>=1.1.2 in c:\\users\\cochr\\anaconda3\\lib\\site-packages (from aiohttp->datasets) (1.2.0)\n",
      "Requirement already satisfied: attrs>=17.3.0 in c:\\users\\cochr\\anaconda3\\lib\\site-packages (from aiohttp->datasets) (24.2.0)\n",
      "Requirement already satisfied: frozenlist>=1.1.1 in c:\\users\\cochr\\anaconda3\\lib\\site-packages (from aiohttp->datasets) (1.4.0)\n",
      "Requirement already satisfied: multidict<7.0,>=4.5 in c:\\users\\cochr\\anaconda3\\lib\\site-packages (from aiohttp->datasets) (6.0.4)\n",
      "Requirement already satisfied: yarl<2.0,>=1.0 in c:\\users\\cochr\\anaconda3\\lib\\site-packages (from aiohttp->datasets) (1.11.0)\n",
      "Requirement already satisfied: charset-normalizer<4,>=2 in c:\\users\\cochr\\anaconda3\\lib\\site-packages (from requests>=2.32.2->datasets) (3.3.2)\n",
      "Requirement already satisfied: idna<4,>=2.5 in c:\\users\\cochr\\anaconda3\\lib\\site-packages (from requests>=2.32.2->datasets) (3.7)\n",
      "Requirement already satisfied: urllib3<3,>=1.21.1 in c:\\users\\cochr\\anaconda3\\lib\\site-packages (from requests>=2.32.2->datasets) (2.2.3)\n",
      "Requirement already satisfied: certifi>=2017.4.17 in c:\\users\\cochr\\anaconda3\\lib\\site-packages (from requests>=2.32.2->datasets) (2024.8.30)\n",
      "Requirement already satisfied: colorama in c:\\users\\cochr\\anaconda3\\lib\\site-packages (from tqdm>=4.66.3->datasets) (0.4.6)\n",
      "Requirement already satisfied: python-dateutil>=2.8.2 in c:\\users\\cochr\\anaconda3\\lib\\site-packages (from pandas->datasets) (2.9.0.post0)\n",
      "Requirement already satisfied: pytz>=2020.1 in c:\\users\\cochr\\anaconda3\\lib\\site-packages (from pandas->datasets) (2024.1)\n",
      "Requirement already satisfied: tzdata>=2022.7 in c:\\users\\cochr\\anaconda3\\lib\\site-packages (from pandas->datasets) (2023.3)\n",
      "Requirement already satisfied: six>=1.5 in c:\\users\\cochr\\anaconda3\\lib\\site-packages (from python-dateutil>=2.8.2->pandas->datasets) (1.16.0)\n",
      "Note: you may need to restart the kernel to use updated packages.\n"
     ]
    }
   ],
   "source": [
    "pip install pyarrow datasets huggingface_hub transformers"
   ]
  },
  {
   "cell_type": "code",
   "execution_count": 1,
   "metadata": {
    "colab": {
     "base_uri": "https://localhost:8080/",
     "height": 255,
     "referenced_widgets": [
      "c5094d5a479b4287ac740414f3147bc7",
      "f011cecad8aa497092c9a82176559910",
      "c1426369553c4f52a1eda9d79889319b",
      "a6d7cddf5e9f434e825f2124c27e4da2",
      "9aa51369a2614879af61a04f8ec4e134",
      "2f0447b999f349029446ecb7461bf1d6",
      "92151ae570d44f3b8adf86b353a2a29e",
      "b7244bba1f5140b2a82864b3693fc8e9",
      "014560afa2224ed399f5d0068a51326c",
      "c62dddd771c3420ba9ae4f56f0a84d14",
      "e44f80290f0347f990e967198d4e5a78",
      "ca18a1de18a846fb8683fc53ac634448",
      "e99777fa8e4f40dc9c4631d45e75dc3f",
      "28b2c9844c0c4822977c87044bbecde7",
      "126e2261a302497faf0e7a8b70adba24",
      "ef365013216046d38b271aa4654c2b6c",
      "6c5ce3ab1f044c60b73d9cd96f9ca881",
      "67f0c421c61d409bb81d9bc430d72ed5",
      "118f91a0900b47e88fc44b7cef818710",
      "59002520f5054ffa9d064f590c43c1a8",
      "70343d0319ce42c89f0372890948223a",
      "f501f74d21af4ac69c05161d07f61dba",
      "a629531f1ace47e98bf01764597137cb",
      "af858eaf950f483e9b7e641f50d7dabb",
      "976a9affdb634ded87047e84b2bbaf76",
      "3385eb158264490a8354d6cc92169a09",
      "3b9704485f324742aaad0159fed4cdf3",
      "a78613a05002412e9e6b5f7316e0544e",
      "5677591d9ff64f4291b64a29e0ceab61",
      "edfc54251821484289953c3f7fc422f3",
      "4fea1d91d6854571857a30d82d94a98b",
      "51bd5be931994d25a79a9739ad06a87d",
      "77cb5f6971bb4c3ca2edddd32bfa3ab2"
     ]
    },
    "executionInfo": {
     "elapsed": 108274,
     "status": "ok",
     "timestamp": 1738160058018,
     "user": {
      "displayName": "Christoffer Olsen",
      "userId": "05652060910169124290"
     },
     "user_tz": -60
    },
    "id": "uAYXpdW3LFHW",
    "outputId": "2780e9e1-7dd0-41e9-e96d-1c5d60711beb"
   },
   "outputs": [
    {
     "data": {
      "application/vnd.jupyter.widget-view+json": {
       "model_id": "76d43748f3ec47e9a97b7c803b54a1f5",
       "version_major": 2,
       "version_minor": 0
      },
      "text/plain": [
       "Resolving data files:   0%|          | 0/24 [00:00<?, ?it/s]"
      ]
     },
     "metadata": {},
     "output_type": "display_data"
    },
    {
     "data": {
      "application/vnd.jupyter.widget-view+json": {
       "model_id": "f40670410c904efbb977f51e91b2df20",
       "version_major": 2,
       "version_minor": 0
      },
      "text/plain": [
       "Resolving data files:   0%|          | 0/24 [00:00<?, ?it/s]"
      ]
     },
     "metadata": {},
     "output_type": "display_data"
    }
   ],
   "source": [
    "import os\n",
    "import pandas as pd\n",
    "from pathlib import Path\n",
    "from PIL import Image\n",
    "from datasets import load_dataset, DownloadMode\n",
    "import tensorflow as tf\n",
    "\n",
    "# Define the location where you wish to save the dataset \n",
    "filepath = r'C:\\Users\\COChr\\Desktop\\Data'\n",
    "\n",
    "# Define the destination path\n",
    "destination_path = str(Path(filepath))\n",
    "\n",
    "# Create the destination directory if it doesn't exist\n",
    "os.makedirs(destination_path, exist_ok=True)\n",
    "\n",
    "# Load the entire dataset\n",
    "dataset = load_dataset(\n",
    "    \"ahmed-ai/skin-lesions-classification-dataset\", \n",
    "    cache_dir=destination_path,\n",
    "    download_mode=DownloadMode.REUSE_DATASET_IF_EXISTS \n",
    ")\n",
    "\n",
    "# Alternatively, load a specific split of the dataset\n",
    "# dataset = load_dataset(\n",
    "#     \"ahmed-ai/skin-lesions-classification-dataset\",\n",
    "#     split={\n",
    "#         'train': 'train[:50%]',\n",
    "#         'validation': 'validation[:50%]',\n",
    "#         'test': 'test[:50%]'\n",
    "#     },\n",
    "#     cache_dir=destination_path,\n",
    "#     download_mode=DownloadMode.REUSE_DATASET_IF_EXISTS \n",
    "# )"
   ]
  },
  {
   "cell_type": "code",
   "execution_count": 3,
   "metadata": {
    "executionInfo": {
     "elapsed": 44722,
     "status": "ok",
     "timestamp": 1738160144235,
     "user": {
      "displayName": "Christoffer Olsen",
      "userId": "05652060910169124290"
     },
     "user_tz": -60
    },
    "id": "A7cwPChjLFHX"
   },
   "outputs": [],
   "source": [
    "from PIL import Image\n",
    "\n",
    "# Set image target height and width: That is entirely your choice...below is just an example\n",
    "TARGET_HEIGHT = 224\n",
    "TARGET_WIDTH = 224\n",
    "\n",
    "# Resize function in case it is needed\n",
    "def resize_images(example):\n",
    "    # Resize the image using PIL\n",
    "    example['image'] = example['image'].resize((TARGET_WIDTH, TARGET_HEIGHT), Image.BICUBIC)\n",
    "    return example\n",
    "\n",
    "# Apply the resizing function\n",
    "resized_dataset = dataset.map(resize_images)"
   ]
  },
  {
   "cell_type": "code",
   "execution_count": 4,
   "metadata": {
    "colab": {
     "base_uri": "https://localhost:8080/"
    },
    "executionInfo": {
     "elapsed": 402,
     "status": "ok",
     "timestamp": 1738160147019,
     "user": {
      "displayName": "Christoffer Olsen",
      "userId": "05652060910169124290"
     },
     "user_tz": -60
    },
    "id": "mrloHQd8LFHY",
    "outputId": "902bed93-e5a3-47c5-93fe-67f8edd5b06e"
   },
   "outputs": [
    {
     "name": "stdout",
     "output_type": "stream",
     "text": [
      "Train dataset size: 29322\n",
      "Validation dataset size: 3660\n",
      "Test dataset size: 3674\n",
      "\n",
      "Column names in the training data:\n",
      "['image', 'label']\n"
     ]
    }
   ],
   "source": [
    "# Split the dataset into training, validation, and test sets\n",
    "df_train = dataset['train']\n",
    "df_train_rs = resized_dataset['train']\n",
    "df_validation = dataset['validation']\n",
    "df_validation_rs = resized_dataset['validation']\n",
    "df_test = dataset['test']\n",
    "df_test_rs = resized_dataset['test']\n",
    "\n",
    "# Display the sizes of the splits\n",
    "print(f\"Train dataset size: {len(df_train_rs)}\")\n",
    "print(f\"Validation dataset size: {len(df_validation_rs)}\")\n",
    "print(f\"Test dataset size: {len(df_test)}\")\n",
    "\n",
    "# Get the column names\n",
    "print(\"\\nColumn names in the training data:\")\n",
    "print(resized_dataset['train'].column_names)"
   ]
  },
  {
   "cell_type": "code",
   "execution_count": 5,
   "metadata": {
    "colab": {
     "base_uri": "https://localhost:8080/"
    },
    "executionInfo": {
     "elapsed": 393,
     "status": "ok",
     "timestamp": 1738160154960,
     "user": {
      "displayName": "Christoffer Olsen",
      "userId": "05652060910169124290"
     },
     "user_tz": -60
    },
    "id": "eZZ5J-qrLFHY",
    "outputId": "f0f5d32e-c899-48b3-9ed9-05b39788e7e5"
   },
   "outputs": [
    {
     "name": "stdout",
     "output_type": "stream",
     "text": [
      "Number of categories in label: 14\n"
     ]
    }
   ],
   "source": [
    "# computing the number of categories in the label column\n",
    "num_categories = len(set(df_train_rs['label']))\n",
    "print(f\"Number of categories in label: {num_categories}\")"
   ]
  },
  {
   "cell_type": "code",
   "execution_count": 6,
   "metadata": {
    "colab": {
     "base_uri": "https://localhost:8080/"
    },
    "executionInfo": {
     "elapsed": 413,
     "status": "ok",
     "timestamp": 1738160158763,
     "user": {
      "displayName": "Christoffer Olsen",
      "userId": "05652060910169124290"
     },
     "user_tz": -60
    },
    "id": "x9mSEajCLFHY",
    "outputId": "5699fe66-d793-4c75-ce06-0396338aae73"
   },
   "outputs": [
    {
     "name": "stdout",
     "output_type": "stream",
     "text": [
      "Shape of each image in df_train_rs: (224, 224, 3)\n"
     ]
    }
   ],
   "source": [
    "import numpy as np\n",
    "# computing the shape of the images\n",
    "image_shape = np.array(df_train_rs[0][\"image\"]).shape\n",
    "print(f\"Shape of each image in df_train_rs: {image_shape}\")"
   ]
  },
  {
   "cell_type": "code",
   "execution_count": 7,
   "metadata": {
    "colab": {
     "base_uri": "https://localhost:8080/"
    },
    "executionInfo": {
     "elapsed": 2,
     "status": "ok",
     "timestamp": 1738160161145,
     "user": {
      "displayName": "Christoffer Olsen",
      "userId": "05652060910169124290"
     },
     "user_tz": -60
    },
    "id": "D-Ua28P7LFHY",
    "outputId": "95f3f1da-2879-4fe5-87dc-6bf402e14c19"
   },
   "outputs": [
    {
     "name": "stdout",
     "output_type": "stream",
     "text": [
      "Number of images in the training set: 29322\n"
     ]
    }
   ],
   "source": [
    "# computing the number of images in the training set\n",
    "num_images = len(df_train_rs)\n",
    "print(f\"Number of images in the training set: {num_images}\")"
   ]
  },
  {
   "cell_type": "code",
   "execution_count": 8,
   "metadata": {
    "colab": {
     "base_uri": "https://localhost:8080/",
     "height": 241
    },
    "executionInfo": {
     "elapsed": 1586,
     "status": "ok",
     "timestamp": 1738160164473,
     "user": {
      "displayName": "Christoffer Olsen",
      "userId": "05652060910169124290"
     },
     "user_tz": -60
    },
    "id": "9T3OM3S1LFHZ",
    "outputId": "0a2b1128-24be-4afb-9be7-e3fcf89d5cf9"
   },
   "outputs": [
    {
     "data": {
      "image/jpeg": "[encoded data removed]",
      "image/png": "[encoded data removed]",
      "text/plain": [
       "<PIL.PngImagePlugin.PngImageFile image mode=RGB size=224x224>"
      ]
     },
     "execution_count": 8,
     "metadata": {},
     "output_type": "execute_result"
    }
   ],
   "source": [
    "# plotting the first image in the training set\n",
    "df_train_rs[0][\"image\"]"
   ]
  },
  {
   "cell_type": "code",
   "execution_count": 9,
   "metadata": {
    "executionInfo": {
     "elapsed": 1916,
     "status": "ok",
     "timestamp": 1738160168176,
     "user": {
      "displayName": "Christoffer Olsen",
      "userId": "05652060910169124290"
     },
     "user_tz": -60
    },
    "id": "7YB241wpLFHZ"
   },
   "outputs": [],
   "source": [
    "# Create a TensorFlow dataset\n",
    "tf_train = df_train_rs.to_tf_dataset(\n",
    "            columns='image',\n",
    "            label_cols='label',\n",
    "            batch_size=32,\n",
    "            shuffle=True,\n",
    "            drop_remainder=True\n",
    "            )\n",
    "tf_validation = df_validation_rs.to_tf_dataset(\n",
    "            columns='image',\n",
    "            label_cols='label',\n",
    "            batch_size=32,\n",
    "            shuffle=True,\n",
    "            drop_remainder=True\n",
    "            )\n",
    "tf_test = df_test_rs.to_tf_dataset(\n",
    "            columns='image',\n",
    "            label_cols='label',\n",
    "            batch_size=128,\n",
    "            shuffle=True\n",
    "            )"
   ]
  },
  {
   "cell_type": "markdown",
   "metadata": {
    "id": "ZCGg9dHjLFHZ"
   },
   "source": [
    "HINT: Maybe a good idea to save the curated tf.data datasets at this point for easier access later"
   ]
  },
  {
   "cell_type": "code",
   "execution_count": null,
   "metadata": {
    "id": "wauoV6SnLFHZ"
   },
   "outputs": [],
   "source": [
    "tf.data.experimental.save(tf_train, r'C:\\Users\\COChr\\Desktop\\Data\\train')\n",
    "tf.data.experimental.save(tf_validation, r'C:\\Users\\COChr\\Desktop\\Data\\validation')\n",
    "tf.data.experimental.save(tf_test, r'C:\\Users\\COChr\\Desktop\\Data\\test')\n",
    "\n",
    "# Load the saved datasets\n",
    "tf_train = tf.data.experimental.load(r'C:\\Users\\COChr\\Desktop\\Data\\train')\n",
    "tf_validation = tf.data.experimental.load(r'C:\\Users\\COChr\\Desktop\\Data\\validation')\n",
    "tf_test = tf.data.experimental.load(r'C:\\Users\\COChr\\Desktop\\Data\\test')\n"
   ]
  },
  {
   "cell_type": "code",
   "execution_count": 10,
   "metadata": {
    "executionInfo": {
     "elapsed": 1039,
     "status": "ok",
     "timestamp": 1738160183952,
     "user": {
      "displayName": "Christoffer Olsen",
      "userId": "05652060910169124290"
     },
     "user_tz": -60
    },
    "id": "_x2CfIGJLFHZ"
   },
   "outputs": [],
   "source": [
    "def preprocess_image(image, label):\n",
    "    image = tf.cast(image, tf.float32) / 255.0\n",
    "    return image, label\n",
    "\n",
    "train_dataset_224 = tf_train.map(preprocess_image)\n",
    "validation_dataset_224 = tf_validation.map(preprocess_image)\n",
    "test_dataset_224 = tf_test.map(preprocess_image)"
   ]
  },
  {
   "cell_type": "markdown",
   "metadata": {
    "id": "rzhM-dOELFHa"
   },
   "source": [
    "## Plotting the loaded images with labels"
   ]
  },
  {
   "cell_type": "code",
   "execution_count": 11,
   "metadata": {
    "colab": {
     "base_uri": "https://localhost:8080/",
     "height": 428
    },
    "executionInfo": {
     "elapsed": 4843,
     "status": "ok",
     "timestamp": 1738160211384,
     "user": {
      "displayName": "Christoffer Olsen",
      "userId": "05652060910169124290"
     },
     "user_tz": -60
    },
    "id": "kFI251sNLFHa",
    "outputId": "20684177-db3c-4bf5-8f19-af03f416a264"
   },
   "outputs": [
    {
     "data": {
      "image/png": "[encoded data removed]",
      "text/plain": [
       "<Figure size 640x480 with 1 Axes>"
      ]
     },
     "metadata": {},
     "output_type": "display_data"
    }
   ],
   "source": [
    "import tensorflow as tf\n",
    "import matplotlib.pyplot as plt\n",
    "\n",
    "# Example: Assuming `dataset` is your tf.data.Dataset object\n",
    "# It should yield image-label pairs\n",
    "\n",
    "for image, label in train_dataset_224.take(1):\n",
    "    #Check image type and normalize accordingly\n",
    "    if image.dtype.is_floating:\n",
    "        image = tf.clip_by_value(image, 0.0, 1.0)\n",
    "    elif image.dtype.is_integer:\n",
    "        image = tf.clip_by_value(image, 0, 255)\n",
    "\n",
    "    # Convert to numpy for display\n",
    "    image = image.numpy()\n",
    "\n",
    "    # Plot the image\n",
    "    plt.imshow(image[0])  # Assuming the dataset has batches\n",
    "    plt.title(f\"Label: {label[0].numpy()}\")\n",
    "    plt.axis(\"off\")\n",
    "    plt.show()"
   ]
  },
  {
   "cell_type": "markdown",
   "metadata": {
    "id": "INYLcY9ELFHa"
   },
   "source": [
    "## Example: Based on the data train a very simply CNN model"
   ]
  },
  {
   "cell_type": "code",
   "execution_count": null,
   "metadata": {
    "id": "Kgv7y7stLFHa"
   },
   "outputs": [],
   "source": [
    "import tensorflow as tf\n",
    "from tensorflow.keras.layers import Input, Dense, Conv2D, Flatten, Dropout\n",
    "from tensorflow.keras.models import Model\n",
    "from tensorflow.keras.optimizers import SGD"
   ]
  },
  {
   "cell_type": "code",
   "execution_count": null,
   "metadata": {
    "id": "VruStH4xLFHa"
   },
   "outputs": [],
   "source": [
    "def first_ccn_model():\n",
    "    input_img = Input(shape=(TARGET_HEIGHT,TARGET_WIDTH,3))\n",
    "\n",
    "    x = Conv2D(16, (3, 3), padding='valid', activation='relu')(input_img)\n",
    "    x = Conv2D(32, (3, 3), padding='valid', activation='relu')(x)\n",
    "    x = Flatten()(x)\n",
    "    x = Dense(128, activation='relu')(x)\n",
    "    x = Dropout(rate=0.2)(x)\n",
    "    y = Dense(14, activation='softmax')(x)\n",
    "\n",
    "    model = Model(inputs=input_img, outputs=y)\n",
    "    return model\n",
    "\n",
    "sgd_opt = SGD(learning_rate=0.01, momentum=0.9, decay=0.0, nesterov=True)\n",
    "\n",
    "model = first_ccn_model()\n",
    "\n",
    "model.compile(optimizer=sgd_opt,\n",
    "              loss='sparse_categorical_crossentropy',\n",
    "              metrics=['accuracy'])\n",
    "\n",
    "hist = model.fit(train_dataset_224,\n",
    "                 validation_data=validation_dataset_224,\n",
    "                 epochs=2)"
   ]
  },
  {
   "cell_type": "code",
   "execution_count": null,
   "metadata": {
    "id": "9eNH9DbHLFHa"
   },
   "outputs": [],
   "source": [
    "# Evaluate the model on the test set\n",
    "test_loss, test_acc = model.evaluate(test_dataset_224)\n",
    "print(f\"Test accuracy: {test_acc}\")"
   ]
  },
  {
   "cell_type": "markdown",
   "metadata": {
    "id": "qs23XHKULFHa"
   },
   "source": [
    "## Convert tf data to be suitable for shallow learners"
   ]
  },
  {
   "cell_type": "code",
   "execution_count": 12,
   "metadata": {
    "colab": {
     "base_uri": "https://localhost:8080/"
    },
    "executionInfo": {
     "elapsed": 163034,
     "status": "ok",
     "timestamp": 1738160379185,
     "user": {
      "displayName": "Christoffer Olsen",
      "userId": "05652060910169124290"
     },
     "user_tz": -60
    },
    "id": "gPV_Yah5LFHa",
    "outputId": "49e060be-fadc-49a6-b968-6b5966fb3bdf"
   },
   "outputs": [
    {
     "name": "stdout",
     "output_type": "stream",
     "text": [
      "Processing train dataset with noise filtering and duplicate removal...\n",
      "Number of noisy images removed from training set: 0\n",
      "Number of duplicate images removed from training set: 659\n",
      "Processing validation dataset with noise filtering and duplicate removal...\n",
      "Number of noisy images removed from validation set: 0\n",
      "Number of duplicate images removed from validation set: 9\n",
      "Processing test dataset with noise filtering and duplicate removal...\n",
      "Number of noisy images removed from test set: 0\n",
      "Number of duplicate images removed from test set: 11\n",
      "\n",
      "Total number of noisy images removed across all datasets: 0\n",
      "Total number of duplicate images removed across all datasets: 679\n"
     ]
    }
   ],
   "source": [
    "import tensorflow as tf\n",
    "import numpy as np\n",
    "import hashlib\n",
    "\n",
    "def is_noisy(image, variance_threshold=0.5):\n",
    "    \"\"\"\n",
    "    Check if an image is noisy based on pixel intensity variance.\n",
    "\n",
    "    Args:\n",
    "        image: A single image (grayscale or RGB).\n",
    "        variance_threshold: Variance threshold. Images with variance above this are considered noisy.\n",
    "\n",
    "    Returns:\n",
    "        bool: True if the image is noisy, False otherwise.\n",
    "    \"\"\"\n",
    "    variance = np.var(image.numpy())\n",
    "    return variance > variance_threshold\n",
    "\n",
    "def hash_image(image):\n",
    "    \"\"\"\n",
    "    Hash an image using SHA-256 for duplicate detection.\n",
    "\n",
    "    Args:\n",
    "        image: A single image as a numpy array.\n",
    "\n",
    "    Returns:\n",
    "        str: The hash of the image.\n",
    "    \"\"\"\n",
    "    image_bytes = image.tobytes()\n",
    "    return hashlib.sha256(image_bytes).hexdigest()\n",
    "\n",
    "def process_dataset_with_noise_filter(dataset, target_size=(96, 96), variance_threshold=0.5):\n",
    "    \"\"\"\n",
    "    Process a TensorFlow dataset into scaled images and labels suitable for ML models.\n",
    "    Filter out noisy images and remove duplicates.\n",
    "\n",
    "    Args:\n",
    "        dataset: tf.data.Dataset containing image-label pairs.\n",
    "        target_size: tuple of (height, width) for image resizing.\n",
    "        variance_threshold: Variance threshold for filtering noisy images.\n",
    "\n",
    "    Returns:\n",
    "        processed_images: numpy array of flattened, scaled images.\n",
    "        labels: numpy array of labels.\n",
    "        removed_noisy_count: Number of noisy images removed.\n",
    "        removed_duplicate_count: Number of duplicate images removed.\n",
    "    \"\"\"\n",
    "    images_list = []\n",
    "    labels_list = []\n",
    "    removed_noisy_count = 0  # Track the number of noisy images removed\n",
    "    removed_duplicate_count = 0  # Track the number of duplicate images removed\n",
    "    image_hashes = set()  # Set to store unique image hashes\n",
    "\n",
    "    for image, label in dataset.unbatch():\n",
    "        # Convert to grayscale and resize\n",
    "        image = tf.image.rgb_to_grayscale(image)\n",
    "        image = tf.image.resize(image, target_size)\n",
    "\n",
    "        # Check if the image is noisy\n",
    "        if is_noisy(image, variance_threshold):\n",
    "            removed_noisy_count += 1  # Count the removed noisy image\n",
    "            continue  # Skip this image if it is noisy\n",
    "\n",
    "        # Normalize to [0, 1]\n",
    "        image = image.numpy().astype('float32') / 255.0\n",
    "        # Ensure correct shape\n",
    "        if len(image.shape) == 2:\n",
    "            image = np.expand_dims(image, axis=-1)\n",
    "\n",
    "        # Check for duplicates\n",
    "        image_hash = hash_image(image)\n",
    "        if image_hash in image_hashes:\n",
    "            removed_duplicate_count += 1  # Count the duplicate\n",
    "            continue  # Skip this image if it is a duplicate\n",
    "        image_hashes.add(image_hash)  # Add hash to the set of seen images\n",
    "\n",
    "        # Flatten image and add to the list\n",
    "        images_list.append(image.reshape(-1))\n",
    "        labels_list.append(label)\n",
    "\n",
    "    # Stack and convert to numpy arrays\n",
    "    processed_images = np.vstack(images_list)\n",
    "    labels = np.array(labels_list)\n",
    "\n",
    "    return processed_images, labels, removed_noisy_count, removed_duplicate_count\n",
    "\n",
    "# Example usage\n",
    "print(\"Processing train dataset with noise filtering and duplicate removal...\")\n",
    "train_dataset_32_numpy, train_labels_numpy, train_noisy_removed, train_duplicates_removed = process_dataset_with_noise_filter(\n",
    "    train_dataset_224.take(5000), target_size=(32, 32), variance_threshold=0.5\n",
    ")\n",
    "print(f\"Number of noisy images removed from training set: {train_noisy_removed}\")\n",
    "print(f\"Number of duplicate images removed from training set: {train_duplicates_removed}\")\n",
    "\n",
    "print(\"Processing validation dataset with noise filtering and duplicate removal...\")\n",
    "validation_dataset_32_numpy, validation_labels_numpy, validation_noisy_removed, validation_duplicates_removed = process_dataset_with_noise_filter(\n",
    "    validation_dataset_224.take(500), target_size=(32, 32), variance_threshold=0.5\n",
    ")\n",
    "print(f\"Number of noisy images removed from validation set: {validation_noisy_removed}\")\n",
    "print(f\"Number of duplicate images removed from validation set: {validation_duplicates_removed}\")\n",
    "\n",
    "print(\"Processing test dataset with noise filtering and duplicate removal...\")\n",
    "test_dataset_32_numpy, test_labels_numpy, test_noisy_removed, test_duplicates_removed = process_dataset_with_noise_filter(\n",
    "    test_dataset_224.take(500), target_size=(32, 32), variance_threshold=0.5\n",
    ")\n",
    "print(f\"Number of noisy images removed from test set: {test_noisy_removed}\")\n",
    "print(f\"Number of duplicate images removed from test set: {test_duplicates_removed}\")\n",
    "\n",
    "# Total removed images\n",
    "total_noisy_removed = train_noisy_removed + validation_noisy_removed + test_noisy_removed\n",
    "total_duplicates_removed = train_duplicates_removed + validation_duplicates_removed + test_duplicates_removed\n",
    "\n",
    "print(f\"\\nTotal number of noisy images removed across all datasets: {total_noisy_removed}\")\n",
    "print(f\"Total number of duplicate images removed across all datasets: {total_duplicates_removed}\")\n"
   ]
  },
  {
   "cell_type": "code",
   "execution_count": 13,
   "metadata": {
    "colab": {
     "base_uri": "https://localhost:8080/"
    },
    "executionInfo": {
     "elapsed": 650,
     "status": "ok",
     "timestamp": 1738151403317,
     "user": {
      "displayName": "Christoffer Olsen",
      "userId": "05652060910169124290"
     },
     "user_tz": -60
    },
    "id": "qnojm-OVLFHa",
    "outputId": "fbf2eb7f-688e-4c68-8e96-7be3a2453bf8"
   },
   "outputs": [
    {
     "name": "stdout",
     "output_type": "stream",
     "text": [
      "\n",
      "Dataset Dimensions:\n",
      "--------------------------------------------------\n",
      "Training Data:\n",
      "Images: (28653, 1024) (samples, features)\n",
      "Labels: (28653,)\n",
      "\n",
      "Validation Data:\n",
      "Images: (3639, 1024) (samples, features)\n",
      "Labels: (3639,)\n",
      "\n",
      "Test Data:\n",
      "Images: (3663, 1024) (samples, features)\n",
      "Labels: (3663,)\n",
      "\n",
      "Number of features per image: 1024 (32x32x1 flattened)\n"
     ]
    }
   ],
   "source": [
    "# Print dimensions\n",
    "print(\"\\nDataset Dimensions:\")\n",
    "print(\"-\" * 50)\n",
    "print(f\"Training Data:\")\n",
    "print(f\"Images: {train_dataset_32_numpy.shape} (samples, features)\")\n",
    "print(f\"Labels: {train_labels_numpy.shape}\")\n",
    "print(f\"\\nValidation Data:\")\n",
    "print(f\"Images: {validation_dataset_32_numpy.shape} (samples, features)\")\n",
    "print(f\"Labels: {validation_labels_numpy.shape}\")\n",
    "print(f\"\\nTest Data:\")\n",
    "print(f\"Images: {test_dataset_32_numpy.shape} (samples, features)\")\n",
    "print(f\"Labels: {test_labels_numpy.shape}\")\n",
    "\n",
    "# Print feature information\n",
    "n_features = train_dataset_32_numpy.shape[1]\n",
    "print(f\"\\nNumber of features per image: {n_features} (32x32x1 flattened)\")"
   ]
  },
  {
   "cell_type": "markdown",
   "metadata": {
    "id": "WKJumXBmLFHa"
   },
   "source": [
    "## Hint: Save the data in its new format for easier/faster access later"
   ]
  },
  {
   "cell_type": "code",
   "execution_count": null,
   "metadata": {
    "id": "NEyuR50hLFHa",
    "outputId": "9d5a7053-cf07-4f5a-b812-93daeb891d6c"
   },
   "outputs": [
    {
     "name": "stdout",
     "output_type": "stream",
     "text": [
      "Saved train_images.npy\n",
      "Saved train_labels.npy\n",
      "Saved validation_images.npy\n",
      "Saved validation_labels.npy\n",
      "Saved test_images.npy\n",
      "Saved test_labels.npy\n"
     ]
    }
   ],
   "source": [
    "import os\n",
    "import numpy as np\n",
    "import pandas as pd\n",
    "\n",
    "# Specify the local directory\n",
    "save_dir = r'C:\\Users\\COChr\\Desktop\\Data\\SVM'  # Replace with your desired path\n",
    "\n",
    "# Ensure the directory exists\n",
    "os.makedirs(save_dir, exist_ok=True)\n",
    "\n",
    "\n",
    "np.save(os.path.join(save_dir, 'train_images.npy'), train_dataset_32_numpy)\n",
    "print(\"Saved train_images.npy\")\n",
    "np.save(os.path.join(save_dir, 'train_labels.npy'), train_labels_numpy)\n",
    "print(\"Saved train_labels.npy\")\n",
    "\n",
    "np.save(os.path.join(save_dir, 'validation_images.npy'), validation_dataset_32_numpy)\n",
    "print(\"Saved validation_images.npy\")\n",
    "np.save(os.path.join(save_dir, 'validation_labels.npy'), validation_labels_numpy)\n",
    "print(\"Saved validation_labels.npy\")\n",
    "\n",
    "np.save(os.path.join(save_dir, 'test_images.npy'), test_dataset_32_numpy)\n",
    "print(\"Saved test_images.npy\")\n",
    "np.save(os.path.join(save_dir, 'test_labels.npy'), test_labels_numpy)\n",
    "print(\"Saved test_labels.npy\")\n"
   ]
  },
  {
   "cell_type": "markdown",
   "metadata": {
    "id": "RR3C6GaZLFHb"
   },
   "source": [
    "## Example: Using the data for training a support vector machine"
   ]
  },
  {
   "cell_type": "code",
   "execution_count": null,
   "metadata": {
    "id": "qAUj6BgFLFHb",
    "outputId": "18e5fd7a-fcbb-466e-95a6-7a1e26cd13a2"
   },
   "outputs": [
    {
     "name": "stdout",
     "output_type": "stream",
     "text": [
      "Training SVM classifier...\n",
      "\n",
      "Making predictions...\n",
      "\n",
      "Performance Metrics:\n",
      "--------------------------------------------------\n",
      "Training Set:\n",
      "Accuracy: 0.6419\n",
      "              precision    recall  f1-score   support\n",
      "\n",
      "           0       0.60      0.00      0.01       693\n",
      "           1       0.43      0.44      0.44      2657\n",
      "           2       0.84      0.03      0.06      2097\n",
      "           3       0.93      0.30      0.45       900\n",
      "           4       0.98      0.53      0.68       791\n",
      "           5       0.00      0.00      0.00       191\n",
      "           6       0.91      0.83      0.87      1931\n",
      "           7       0.96      0.75      0.84      1368\n",
      "           8       0.93      0.53      0.68       660\n",
      "           9       0.60      0.93      0.73     10297\n",
      "          10       0.73      0.32      0.45      3615\n",
      "          11       0.63      0.92      0.75      3408\n",
      "          12       0.00      0.00      0.00       502\n",
      "          13       0.00      0.00      0.00       202\n",
      "\n",
      "    accuracy                           0.64     29312\n",
      "   macro avg       0.61      0.40      0.43     29312\n",
      "weighted avg       0.67      0.64      0.59     29312\n",
      "\n",
      "\n",
      "Validation Set:\n",
      "Accuracy: 0.5972\n",
      "              precision    recall  f1-score   support\n",
      "\n",
      "           0       0.00      0.00      0.00        75\n",
      "           1       0.40      0.44      0.42       298\n",
      "           2       0.91      0.04      0.08       225\n",
      "           3       0.95      0.20      0.33        90\n",
      "           4       0.95      0.41      0.57        90\n",
      "           5       0.00      0.00      0.00        22\n",
      "           6       0.79      0.74      0.76       214\n",
      "           7       0.81      0.61      0.69       151\n",
      "           8       0.86      0.43      0.57        72\n",
      "           9       0.59      0.91      0.72      1127\n",
      "          10       0.65      0.24      0.36       392\n",
      "          11       0.55      0.84      0.66       371\n",
      "          12       0.00      0.00      0.00        53\n",
      "          13       0.00      0.00      0.00        20\n",
      "\n",
      "    accuracy                           0.60      3200\n",
      "   macro avg       0.53      0.35      0.37      3200\n",
      "weighted avg       0.62      0.60      0.54      3200\n",
      "\n",
      "\n",
      "Test Set:\n",
      "Accuracy: 0.5928\n",
      "              precision    recall  f1-score   support\n",
      "\n",
      "           0       0.00      0.00      0.00        88\n",
      "           1       0.40      0.40      0.40       333\n",
      "           2       0.75      0.05      0.09       263\n",
      "           3       0.92      0.20      0.33       113\n",
      "           4       0.96      0.44      0.61        99\n",
      "           5       0.00      0.00      0.00        25\n",
      "           6       0.79      0.65      0.71       242\n",
      "           7       0.85      0.68      0.76       171\n",
      "           8       0.94      0.37      0.53        83\n",
      "           9       0.58      0.92      0.71      1288\n",
      "          10       0.64      0.23      0.34       453\n",
      "          11       0.55      0.86      0.67       426\n",
      "          12       0.00      0.00      0.00        64\n",
      "          13       0.00      0.00      0.00        26\n",
      "\n",
      "    accuracy                           0.59      3674\n",
      "   macro avg       0.53      0.34      0.37      3674\n",
      "weighted avg       0.60      0.59      0.53      3674\n",
      "\n"
     ]
    },
    {
     "name": "stderr",
     "output_type": "stream",
     "text": [
      "c:\\Users\\COChr\\anaconda3\\Lib\\site-packages\\sklearn\\metrics\\_classification.py:1531: UndefinedMetricWarning: Precision is ill-defined and being set to 0.0 in labels with no predicted samples. Use `zero_division` parameter to control this behavior.\n",
      "  _warn_prf(average, modifier, f\"{metric.capitalize()} is\", len(result))\n",
      "c:\\Users\\COChr\\anaconda3\\Lib\\site-packages\\sklearn\\metrics\\_classification.py:1531: UndefinedMetricWarning: Precision is ill-defined and being set to 0.0 in labels with no predicted samples. Use `zero_division` parameter to control this behavior.\n",
      "  _warn_prf(average, modifier, f\"{metric.capitalize()} is\", len(result))\n",
      "c:\\Users\\COChr\\anaconda3\\Lib\\site-packages\\sklearn\\metrics\\_classification.py:1531: UndefinedMetricWarning: Precision is ill-defined and being set to 0.0 in labels with no predicted samples. Use `zero_division` parameter to control this behavior.\n",
      "  _warn_prf(average, modifier, f\"{metric.capitalize()} is\", len(result))\n",
      "c:\\Users\\COChr\\anaconda3\\Lib\\site-packages\\sklearn\\metrics\\_classification.py:1531: UndefinedMetricWarning: Precision is ill-defined and being set to 0.0 in labels with no predicted samples. Use `zero_division` parameter to control this behavior.\n",
      "  _warn_prf(average, modifier, f\"{metric.capitalize()} is\", len(result))\n",
      "c:\\Users\\COChr\\anaconda3\\Lib\\site-packages\\sklearn\\metrics\\_classification.py:1531: UndefinedMetricWarning: Precision is ill-defined and being set to 0.0 in labels with no predicted samples. Use `zero_division` parameter to control this behavior.\n",
      "  _warn_prf(average, modifier, f\"{metric.capitalize()} is\", len(result))\n",
      "c:\\Users\\COChr\\anaconda3\\Lib\\site-packages\\sklearn\\metrics\\_classification.py:1531: UndefinedMetricWarning: Precision is ill-defined and being set to 0.0 in labels with no predicted samples. Use `zero_division` parameter to control this behavior.\n",
      "  _warn_prf(average, modifier, f\"{metric.capitalize()} is\", len(result))\n",
      "c:\\Users\\COChr\\anaconda3\\Lib\\site-packages\\sklearn\\metrics\\_classification.py:1531: UndefinedMetricWarning: Precision is ill-defined and being set to 0.0 in labels with no predicted samples. Use `zero_division` parameter to control this behavior.\n",
      "  _warn_prf(average, modifier, f\"{metric.capitalize()} is\", len(result))\n",
      "c:\\Users\\COChr\\anaconda3\\Lib\\site-packages\\sklearn\\metrics\\_classification.py:1531: UndefinedMetricWarning: Precision is ill-defined and being set to 0.0 in labels with no predicted samples. Use `zero_division` parameter to control this behavior.\n",
      "  _warn_prf(average, modifier, f\"{metric.capitalize()} is\", len(result))\n",
      "c:\\Users\\COChr\\anaconda3\\Lib\\site-packages\\sklearn\\metrics\\_classification.py:1531: UndefinedMetricWarning: Precision is ill-defined and being set to 0.0 in labels with no predicted samples. Use `zero_division` parameter to control this behavior.\n",
      "  _warn_prf(average, modifier, f\"{metric.capitalize()} is\", len(result))\n"
     ]
    }
   ],
   "source": [
    "from sklearn.svm import SVC\n",
    "from sklearn.metrics import classification_report, accuracy_score\n",
    "\n",
    "# Create SVM classifier\n",
    "svm_classifier = SVC(kernel='rbf', random_state=42, )\n",
    "\n",
    "# Train the model on training data\n",
    "print(\"Training SVM classifier...\")\n",
    "svm_classifier.fit(train_dataset_32_numpy, train_labels_numpy)\n",
    "\n",
    "# Make predictions on all splits\n",
    "print(\"\\nMaking predictions...\")\n",
    "train_predictions = svm_classifier.predict(train_dataset_32_numpy)\n",
    "val_predictions = svm_classifier.predict(validation_dataset_32_numpy)\n",
    "test_predictions = svm_classifier.predict(test_dataset_32_numpy)\n",
    "\n",
    "# Evaluate performance on all splits\n",
    "print(\"\\nPerformance Metrics:\")\n",
    "print(\"-\" * 50)\n",
    "print(\"Training Set:\")\n",
    "print(f\"Accuracy: {accuracy_score(train_labels_numpy, train_predictions):.4f}\")\n",
    "print(classification_report(train_labels_numpy, train_predictions))\n",
    "\n",
    "print(\"\\nValidation Set:\")\n",
    "print(f\"Accuracy: {accuracy_score(validation_labels_numpy, val_predictions):.4f}\")\n",
    "print(classification_report(validation_labels_numpy, val_predictions))\n",
    "\n",
    "print(\"\\nTest Set:\")\n",
    "print(f\"Accuracy: {accuracy_score(test_labels_numpy, test_predictions):.4f}\")\n",
    "print(classification_report(test_labels_numpy, test_predictions))"
   ]
  },
  {
   "cell_type": "markdown",
   "metadata": {},
   "source": [
    "PCA "
   ]
  },
  {
   "cell_type": "code",
   "execution_count": null,
   "metadata": {
    "colab": {
     "base_uri": "https://localhost:8080/",
     "height": 522
    },
    "executionInfo": {
     "elapsed": 5302,
     "status": "ok",
     "timestamp": 1738160585828,
     "user": {
      "displayName": "Christoffer Olsen",
      "userId": "05652060910169124290"
     },
     "user_tz": -60
    },
    "id": "FpmQH07Dat_n",
    "outputId": "f27ed639-77a6-474d-f4f2-40357eead7b0"
   },
   "outputs": [
    {
     "name": "stdout",
     "output_type": "stream",
     "text": [
      "Original number of features: 1024\n",
      "Reduced number of features: 588\n"
     ]
    },
    {
     "data": {
      "image/png": "[encoded data removed]",
      "text/plain": [
       "<Figure size 800x500 with 1 Axes>"
      ]
     },
     "metadata": {},
     "output_type": "display_data"
    }
   ],
   "source": [
    "from sklearn.decomposition import PCA\n",
    "from sklearn.preprocessing import StandardScaler\n",
    "import matplotlib.pyplot as plt\n",
    "\n",
    "# Standardize the data\n",
    "scaler = StandardScaler()\n",
    "train_data_scaled = scaler.fit_transform(train_dataset_32_numpy)  \n",
    "validation_data_scaled = scaler.transform(validation_dataset_32_numpy)  \n",
    "test_data_scaled = scaler.transform(test_dataset_32_numpy)  \n",
    "\n",
    "# Apply PCA to retain 95% variance\n",
    "pca = PCA(n_components=0.99)  # Retain 95% of the variance\n",
    "train_data_pca = pca.fit_transform(train_data_scaled)\n",
    "validation_data_pca = pca.transform(validation_data_scaled)\n",
    "test_data_pca = pca.transform(test_data_scaled)\n",
    "\n",
    "# Print the reduced dimensionality\n",
    "print(f\"Original number of features: {train_dataset_32_numpy.shape[1]}\")\n",
    "print(f\"Reduced number of features: {train_data_pca.shape[1]}\")\n",
    "\n",
    "# Plot explained variance ratio\n",
    "plt.figure(figsize=(8, 5))\n",
    "plt.plot(np.cumsum(pca.explained_variance_ratio_), marker='o')\n",
    "plt.title('Explained Variance by Number of Components')\n",
    "plt.xlabel('Number of Components')\n",
    "plt.ylabel('Cumulative Explained Variance')\n",
    "plt.grid()\n",
    "plt.show()\n"
   ]
  },
  {
   "cell_type": "markdown",
   "metadata": {
    "id": "wTuMD4ea38hl"
   },
   "source": [
    "BASIC SVM MODEL"
   ]
  },
  {
   "cell_type": "code",
   "execution_count": null,
   "metadata": {
    "id": "DpFDo3wF4ELR"
   },
   "outputs": [],
   "source": [
    "from sklearn.svm import SVC\n",
    "from sklearn.metrics import classification_report, accuracy_score\n",
    "\n",
    "# Create SVM classifier\n",
    "svm_classifier = SVC(kernel='rbf', random_state=42)\n",
    "\n",
    "# Train the model on PCA-transformed training data\n",
    "print(\"Training SVM classifier on PCA-transformed data...\")\n",
    "svm_classifier.fit(train_data_pca, train_labels_numpy)  \n",
    "\n",
    "# Make predictions on PCA-transformed datasets\n",
    "print(\"\\nMaking predictions...\")\n",
    "train_predictions = svm_classifier.predict(train_data_pca)  \n",
    "val_predictions = svm_classifier.predict(validation_data_pca)  \n",
    "test_predictions = svm_classifier.predict(test_data_pca) \n",
    "\n",
    "# Evaluate performance on all splits\n",
    "print(\"\\nPerformance Metrics:\")\n",
    "print(\"-\" * 50)\n",
    "\n",
    "# Training Set Performance\n",
    "print(\"Training Set:\")\n",
    "print(f\"Accuracy: {accuracy_score(train_labels_numpy, train_predictions):.4f}\")\n",
    "print(classification_report(train_labels_numpy, train_predictions))\n",
    "\n",
    "# Validation Set Performance\n",
    "print(\"\\nValidation Set:\")\n",
    "print(f\"Accuracy: {accuracy_score(validation_labels_numpy, val_predictions):.4f}\")\n",
    "print(classification_report(validation_labels_numpy, val_predictions))\n",
    "\n",
    "# Test Set Performance\n",
    "print(\"\\nTest Set:\")\n",
    "print(f\"Accuracy: {accuracy_score(test_labels_numpy, test_predictions):.4f}\")\n",
    "print(classification_report(test_labels_numpy, test_predictions))\n"
   ]
  },
  {
   "cell_type": "markdown",
   "metadata": {
    "id": "_AOM9TTa4lpi"
   },
   "source": [
    "GRID SEARCH FOR SVM HYPER TUNING"
   ]
  },
  {
   "cell_type": "code",
   "execution_count": null,
   "metadata": {
    "id": "ricdR-JZ4pDh"
   },
   "outputs": [],
   "source": [
    "from sklearn.svm import SVC\n",
    "from sklearn.metrics import accuracy_score\n",
    "from sklearn.model_selection import train_test_split\n",
    "\n",
    "# Subset the dataset (use 20% of the training data for faster computation)\n",
    "subset_size = 0.2\n",
    "train_data_subset, _, train_labels_subset, _ = train_test_split(\n",
    "    train_data_pca, train_labels_numpy, test_size=(1 - subset_size), stratify=train_labels_numpy, random_state=42\n",
    ")\n",
    "\n",
    "kernels = [\"linear\", \"poly\", \"rbf\"]\n",
    "Cs = [0.1, 1, 5]\n",
    "decision_functions = [\"ovr\", \"ovo\"]\n",
    "best_accuracy = 0\n",
    "best_params = {}\n",
    "\n",
    "# Perform the grid search on the subset of PCA-reduced data\n",
    "for kernel in kernels:\n",
    "    for C in Cs:\n",
    "        for decision_function in decision_functions:\n",
    "            # SVM model\n",
    "            svm_model = SVC(kernel=kernel, C=C, decision_function_shape=decision_function)\n",
    "            svm_model.fit(train_data_subset, train_labels_subset)  \n",
    "\n",
    "            # Validate on PCA-reduced validation data\n",
    "            val_predictions = svm_model.predict(validation_data_pca)\n",
    "            accuracy = accuracy_score(validation_labels_numpy, val_predictions)\n",
    "\n",
    "            # Update best parameters if accuracy improves\n",
    "            if accuracy > best_accuracy:\n",
    "                best_accuracy = accuracy\n",
    "                best_params = {'kernel': kernel, 'C': C, 'decision_function_shape': decision_function}\n",
    "\n",
    "# Print the best parameters and accuracy\n",
    "print(f\"Best Parameters: {best_params} with accuracy: {best_accuracy:.4f}\")\n",
    " # OUTPUT: Best Parameters: {'kernel': 'rbf', 'C': 5, 'decision_function_shape': 'ovr'} with accuracy: 0.5587"
   ]
  },
  {
   "cell_type": "markdown",
   "metadata": {
    "id": "dOiuleJj41gi"
   },
   "source": [
    "TRAINING MODEL WITH THE BEST PARAMETERS"
   ]
  },
  {
   "cell_type": "code",
   "execution_count": null,
   "metadata": {
    "id": "HFGFLxli44jY"
   },
   "outputs": [],
   "source": [
    "from sklearn.svm import SVC\n",
    "from sklearn.metrics import classification_report, accuracy_score\n",
    "\n",
    "# Best parameters obtained from grid search\n",
    "best_params = {\n",
    "    'kernel': 'rbf',  \n",
    "    'C': 5,           \n",
    "    'decision_function_shape': 'ovr'  \n",
    "}\n",
    "\n",
    "# Create SVM classifier with the best parameters\n",
    "svm_classifier = SVC(\n",
    "    kernel=best_params['kernel'],\n",
    "    C=best_params['C'],\n",
    "    decision_function_shape=best_params['decision_function_shape'],\n",
    "    random_state=42\n",
    ")\n",
    "\n",
    "# Train the model on scaled training data\n",
    "print(\"Training SVM classifier with the best parameters on scaled data...\")\n",
    "svm_classifier.fit(train_data_scaled, train_labels_numpy)  \n",
    "\n",
    "# Make predictions on scaled datasets\n",
    "print(\"\\nMaking predictions...\")\n",
    "train_predictions = svm_classifier.predict(train_data_scaled)  \n",
    "val_predictions = svm_classifier.predict(validation_data_scaled)  \n",
    "test_predictions = svm_classifier.predict(test_data_scaled)  \n",
    "\n",
    "# Evaluate performance on all splits\n",
    "print(\"\\nPerformance Metrics:\")\n",
    "print(\"-\" * 50)\n",
    "\n",
    "# Training Set Performance\n",
    "print(\"Training Set:\")\n",
    "print(f\"Accuracy: {accuracy_score(train_labels_numpy, train_predictions):.4f}\")\n",
    "print(classification_report(train_labels_numpy, train_predictions))\n",
    "\n",
    "# Validation Set Performance\n",
    "print(\"\\nValidation Set:\")\n",
    "print(f\"Accuracy: {accuracy_score(validation_labels_numpy, val_predictions):.4f}\")\n",
    "print(classification_report(validation_labels_numpy, val_predictions))\n",
    "\n",
    "# Test Set Performance\n",
    "print(\"\\nTest Set:\")\n",
    "print(f\"Accuracy: {accuracy_score(test_labels_numpy, test_predictions):.4f}\")\n",
    "print(classification_report(test_labels_numpy, test_predictions))\n"
   ]
  },
  {
   "cell_type": "markdown",
   "metadata": {
    "id": "ajc93PtU30jD"
   },
   "source": [
    "RANDOM FOREST BASIC MODLE"
   ]
  },
  {
   "cell_type": "code",
   "execution_count": 14,
   "metadata": {
    "colab": {
     "base_uri": "https://localhost:8080/"
    },
    "executionInfo": {
     "elapsed": 189371,
     "status": "ok",
     "timestamp": 1738160785046,
     "user": {
      "displayName": "Christoffer Olsen",
      "userId": "05652060910169124290"
     },
     "user_tz": -60
    },
    "id": "QUmCW3-y360m",
    "outputId": "b6f1b028-677e-4ddd-edf4-a0be19f81a95"
   },
   "outputs": [
    {
     "name": "stdout",
     "output_type": "stream",
     "text": [
      "\n",
      "Training Random Forest Model...\n",
      "\n",
      "Random Forest Performance Metrics:\n",
      "--------------------------------------------------\n",
      "Training Set:\n",
      "Accuracy: 1.0000\n",
      "              precision    recall  f1-score   support\n",
      "\n",
      "           0       1.00      1.00      1.00       686\n",
      "           1       1.00      1.00      1.00      2654\n",
      "           2       1.00      1.00      1.00      2087\n",
      "           3       1.00      1.00      1.00       832\n",
      "           4       1.00      1.00      1.00       744\n",
      "           5       1.00      1.00      1.00       191\n",
      "           6       1.00      1.00      1.00      1812\n",
      "           7       1.00      1.00      1.00      1283\n",
      "           8       1.00      1.00      1.00       613\n",
      "           9       1.00      1.00      1.00     10288\n",
      "          10       1.00      1.00      1.00      3609\n",
      "          11       1.00      1.00      1.00      3151\n",
      "          12       1.00      1.00      1.00       502\n",
      "          13       1.00      1.00      1.00       202\n",
      "\n",
      "    accuracy                           1.00     28654\n",
      "   macro avg       1.00      1.00      1.00     28654\n",
      "weighted avg       1.00      1.00      1.00     28654\n",
      "\n",
      "\n",
      "Validation Set:\n",
      "Accuracy: 0.6425\n",
      "              precision    recall  f1-score   support\n",
      "\n",
      "           0       0.57      0.05      0.09        86\n",
      "           1       0.48      0.47      0.47       329\n",
      "           2       0.52      0.11      0.18       262\n",
      "           3       0.92      0.50      0.65       110\n",
      "           4       0.98      0.57      0.72        99\n",
      "           5       0.00      0.00      0.00        23\n",
      "           6       0.78      0.75      0.76       240\n",
      "           7       0.93      0.75      0.83       169\n",
      "           8       0.89      0.62      0.73        81\n",
      "           9       0.62      0.91      0.74      1286\n",
      "          10       0.58      0.32      0.41       450\n",
      "          11       0.63      0.87      0.73       417\n",
      "          12       0.50      0.02      0.03        62\n",
      "          13       0.00      0.00      0.00        25\n",
      "\n",
      "    accuracy                           0.64      3639\n",
      "   macro avg       0.60      0.42      0.45      3639\n",
      "weighted avg       0.64      0.64      0.60      3639\n",
      "\n",
      "\n",
      "Test Set:\n",
      "Accuracy: 0.6355\n",
      "              precision    recall  f1-score   support\n",
      "\n",
      "           0       0.14      0.02      0.04        88\n",
      "           1       0.45      0.43      0.44       333\n",
      "           2       0.57      0.09      0.16       262\n",
      "           3       0.92      0.49      0.64       111\n",
      "           4       0.98      0.62      0.76        99\n",
      "           5       0.00      0.00      0.00        25\n",
      "           6       0.82      0.73      0.77       239\n",
      "           7       0.89      0.72      0.79       170\n",
      "           8       0.88      0.52      0.65        81\n",
      "           9       0.62      0.92      0.74      1288\n",
      "          10       0.54      0.30      0.38       453\n",
      "          11       0.64      0.89      0.75       424\n",
      "          12       1.00      0.02      0.03        64\n",
      "          13       0.00      0.00      0.00        26\n",
      "\n",
      "    accuracy                           0.64      3663\n",
      "   macro avg       0.60      0.41      0.44      3663\n",
      "weighted avg       0.63      0.64      0.59      3663\n",
      "\n"
     ]
    },
    {
     "name": "stderr",
     "output_type": "stream",
     "text": [
      "/usr/local/lib/python3.11/dist-packages/sklearn/metrics/_classification.py:1565: UndefinedMetricWarning: Precision is ill-defined and being set to 0.0 in labels with no predicted samples. Use `zero_division` parameter to control this behavior.\n",
      "  _warn_prf(average, modifier, f\"{metric.capitalize()} is\", len(result))\n",
      "/usr/local/lib/python3.11/dist-packages/sklearn/metrics/_classification.py:1565: UndefinedMetricWarning: Precision is ill-defined and being set to 0.0 in labels with no predicted samples. Use `zero_division` parameter to control this behavior.\n",
      "  _warn_prf(average, modifier, f\"{metric.capitalize()} is\", len(result))\n",
      "/usr/local/lib/python3.11/dist-packages/sklearn/metrics/_classification.py:1565: UndefinedMetricWarning: Precision is ill-defined and being set to 0.0 in labels with no predicted samples. Use `zero_division` parameter to control this behavior.\n",
      "  _warn_prf(average, modifier, f\"{metric.capitalize()} is\", len(result))\n",
      "/usr/local/lib/python3.11/dist-packages/sklearn/metrics/_classification.py:1565: UndefinedMetricWarning: Precision is ill-defined and being set to 0.0 in labels with no predicted samples. Use `zero_division` parameter to control this behavior.\n",
      "  _warn_prf(average, modifier, f\"{metric.capitalize()} is\", len(result))\n",
      "/usr/local/lib/python3.11/dist-packages/sklearn/metrics/_classification.py:1565: UndefinedMetricWarning: Precision is ill-defined and being set to 0.0 in labels with no predicted samples. Use `zero_division` parameter to control this behavior.\n",
      "  _warn_prf(average, modifier, f\"{metric.capitalize()} is\", len(result))\n",
      "/usr/local/lib/python3.11/dist-packages/sklearn/metrics/_classification.py:1565: UndefinedMetricWarning: Precision is ill-defined and being set to 0.0 in labels with no predicted samples. Use `zero_division` parameter to control this behavior.\n",
      "  _warn_prf(average, modifier, f\"{metric.capitalize()} is\", len(result))\n"
     ]
    }
   ],
   "source": [
    "from sklearn.ensemble import GradientBoostingClassifier, RandomForestClassifier\n",
    "from sklearn.metrics import classification_report, accuracy_score\n",
    "\n",
    "# --- Random Forest Model ---\n",
    "print(\"\\nTraining Random Forest Model...\")\n",
    "rf_model = RandomForestClassifier(random_state=42)\n",
    "rf_model.fit(train_data_scaled, train_labels_numpy)  \n",
    "\n",
    "# Make predictions for Random Forest\n",
    "rf_train_predictions = rf_model.predict(train_data_scaled)\n",
    "rf_val_predictions = rf_model.predict(validation_data_scaled)\n",
    "rf_test_predictions = rf_model.predict(test_data_scaled)\n",
    "\n",
    "# Evaluate Random Forest Model\n",
    "print(\"\\nRandom Forest Performance Metrics:\")\n",
    "print(\"-\" * 50)\n",
    "print(\"Training Set:\")\n",
    "print(f\"Accuracy: {accuracy_score(train_labels_numpy, rf_train_predictions):.4f}\")\n",
    "print(classification_report(train_labels_numpy, rf_train_predictions))\n",
    "\n",
    "print(\"\\nValidation Set:\")\n",
    "print(f\"Accuracy: {accuracy_score(validation_labels_numpy, rf_val_predictions):.4f}\")\n",
    "print(classification_report(validation_labels_numpy, rf_val_predictions))\n",
    "\n",
    "print(\"\\nTest Set:\")\n",
    "print(f\"Accuracy: {accuracy_score(test_labels_numpy, rf_test_predictions):.4f}\")\n",
    "print(classification_report(test_labels_numpy, rf_test_predictions))"
   ]
  },
  {
   "cell_type": "markdown",
   "metadata": {
    "id": "0RORt72_cIkD"
   },
   "source": [
    "Random forrest grid Search"
   ]
  },
  {
   "cell_type": "code",
   "execution_count": 24,
   "metadata": {},
   "outputs": [
    {
     "name": "stdout",
     "output_type": "stream",
     "text": [
      "Fitting 3 folds for each of 10 candidates, totalling 30 fits\n",
      "[CV] END max_depth=10, min_samples_leaf=3, min_samples_split=7, n_estimators=150; total time=  24.5s\n",
      "[CV] END max_depth=10, min_samples_leaf=3, min_samples_split=7, n_estimators=150; total time=  26.3s\n",
      "[CV] END max_depth=10, min_samples_leaf=3, min_samples_split=7, n_estimators=150; total time=  30.0s\n",
      "[CV] END max_depth=10, min_samples_leaf=2, min_samples_split=5, n_estimators=100; total time=  15.9s\n",
      "[CV] END max_depth=10, min_samples_leaf=2, min_samples_split=5, n_estimators=100; total time=  16.6s\n",
      "[CV] END max_depth=10, min_samples_leaf=2, min_samples_split=5, n_estimators=100; total time=  11.9s\n",
      "[CV] END max_depth=10, min_samples_leaf=3, min_samples_split=2, n_estimators=150; total time=  23.8s\n",
      "[CV] END max_depth=10, min_samples_leaf=3, min_samples_split=2, n_estimators=150; total time= 1.7min\n",
      "[CV] END max_depth=10, min_samples_leaf=3, min_samples_split=2, n_estimators=150; total time=  23.6s\n",
      "[CV] END max_depth=20, min_samples_leaf=2, min_samples_split=2, n_estimators=150; total time=  46.8s\n",
      "[CV] END max_depth=20, min_samples_leaf=2, min_samples_split=2, n_estimators=150; total time=  49.9s\n",
      "[CV] END max_depth=20, min_samples_leaf=2, min_samples_split=2, n_estimators=150; total time=  42.6s\n",
      "[CV] END max_depth=20, min_samples_leaf=1, min_samples_split=7, n_estimators=50; total time=   9.7s\n",
      "[CV] END max_depth=20, min_samples_leaf=1, min_samples_split=7, n_estimators=50; total time=   9.3s\n",
      "[CV] END max_depth=20, min_samples_leaf=1, min_samples_split=7, n_estimators=50; total time=   7.5s\n",
      "[CV] END max_depth=30, min_samples_leaf=3, min_samples_split=5, n_estimators=50; total time=  11.2s\n",
      "[CV] END max_depth=30, min_samples_leaf=3, min_samples_split=5, n_estimators=50; total time=  12.8s\n",
      "[CV] END max_depth=30, min_samples_leaf=3, min_samples_split=5, n_estimators=50; total time=   9.2s\n",
      "[CV] END max_depth=20, min_samples_leaf=2, min_samples_split=7, n_estimators=100; total time=  35.1s\n",
      "[CV] END max_depth=20, min_samples_leaf=2, min_samples_split=7, n_estimators=100; total time=  21.5s\n",
      "[CV] END max_depth=20, min_samples_leaf=2, min_samples_split=7, n_estimators=100; total time=  35.7s\n",
      "[CV] END max_depth=30, min_samples_leaf=2, min_samples_split=7, n_estimators=100; total time=  24.4s\n",
      "[CV] END max_depth=30, min_samples_leaf=2, min_samples_split=7, n_estimators=100; total time=  18.8s\n",
      "[CV] END max_depth=30, min_samples_leaf=2, min_samples_split=7, n_estimators=100; total time=  27.5s\n",
      "[CV] END max_depth=20, min_samples_leaf=2, min_samples_split=7, n_estimators=150; total time=  27.6s\n",
      "[CV] END max_depth=20, min_samples_leaf=2, min_samples_split=7, n_estimators=150; total time=  30.3s\n",
      "[CV] END max_depth=20, min_samples_leaf=2, min_samples_split=7, n_estimators=150; total time=  34.2s\n",
      "[CV] END max_depth=20, min_samples_leaf=1, min_samples_split=2, n_estimators=50; total time=  10.7s\n",
      "[CV] END max_depth=20, min_samples_leaf=1, min_samples_split=2, n_estimators=50; total time=  10.6s\n",
      "[CV] END max_depth=20, min_samples_leaf=1, min_samples_split=2, n_estimators=50; total time=   8.8s\n",
      "Best Parameters: {'n_estimators': 100, 'min_samples_split': 7, 'min_samples_leaf': 2, 'max_depth': 30}\n",
      "Best Score: 0.6002861829476843\n"
     ]
    }
   ],
   "source": [
    "from sklearn.ensemble import RandomForestClassifier\n",
    "from sklearn.model_selection import RandomizedSearchCV\n",
    "import numpy as np\n",
    "\n",
    "# Define the parameter grid with fewer combinations\n",
    "param_dist = {\n",
    "    \"n_estimators\": [100, 200, 300],  \n",
    "    \"max_depth\": [15, 25, 35],  \n",
    "    \"min_samples_split\": [3, 5, 7],  \n",
    "    \"min_samples_leaf\": [1, 2, 3]\n",
    "}\n",
    "\n",
    "# Initialize Random Forest model\n",
    "rf = RandomForestClassifier(random_state=42, warm_start=True, n_jobs=-1)\n",
    "\n",
    "# Use Randomized Search instead of Grid Search\n",
    "random_search = RandomizedSearchCV(\n",
    "    estimator=rf,\n",
    "    param_distributions=param_dist,\n",
    "    n_iter=10,  \n",
    "    cv=3, \n",
    "    scoring=\"accuracy\",\n",
    "    verbose=2,\n",
    ")\n",
    "\n",
    "# Fit the Randomized Search on training data\n",
    "random_search.fit(train_data_scaled, train_labels_numpy)\n",
    "\n",
    "# Print best parameters and best score\n",
    "print(\"Best Parameters:\", random_search.best_params_)\n",
    "print(\"Best Score:\", random_search.best_score_)\n"
   ]
  },
  {
   "cell_type": "markdown",
   "metadata": {
    "id": "-n__4VqWmbc6"
   },
   "source": [
    "NEW BEST TREE"
   ]
  },
  {
   "cell_type": "code",
   "execution_count": 26,
   "metadata": {
    "colab": {
     "base_uri": "https://localhost:8080/",
     "height": 1000
    },
    "executionInfo": {
     "elapsed": 250603,
     "status": "error",
     "timestamp": 1738163671396,
     "user": {
      "displayName": "Christoffer Olsen",
      "userId": "05652060910169124290"
     },
     "user_tz": -60
    },
    "id": "KODtx056maJw",
    "outputId": "ed14b610-e55d-47de-8c20-7e43f76ff324"
   },
   "outputs": [
    {
     "name": "stdout",
     "output_type": "stream",
     "text": [
      "\n",
      "🔍 Random Forest Performance Metrics:\n",
      "--------------------------------------------------\n",
      "🏋️ Training Set:\n",
      "Accuracy: 0.9971\n",
      "              precision    recall  f1-score   support\n",
      "\n",
      "           0       1.00      1.00      1.00       685\n",
      "           1       0.98      1.00      0.99      2653\n",
      "           2       1.00      1.00      1.00      2088\n",
      "           3       1.00      1.00      1.00       832\n",
      "           4       1.00      1.00      1.00       742\n",
      "           5       1.00      1.00      1.00       191\n",
      "           6       1.00      1.00      1.00      1813\n",
      "           7       1.00      1.00      1.00      1282\n",
      "           8       1.00      1.00      1.00       613\n",
      "           9       1.00      0.99      1.00     10288\n",
      "          10       1.00      1.00      1.00      3611\n",
      "          11       0.99      1.00      1.00      3152\n",
      "          12       1.00      1.00      1.00       502\n",
      "          13       1.00      1.00      1.00       201\n",
      "\n",
      "    accuracy                           1.00     28653\n",
      "   macro avg       1.00      1.00      1.00     28653\n",
      "weighted avg       1.00      1.00      1.00     28653\n",
      "\n",
      "\n",
      "🧪 Validation Set:\n",
      "Accuracy: 0.6417\n",
      "              precision    recall  f1-score   support\n",
      "\n",
      "           0       0.44      0.09      0.15        86\n",
      "           1       0.41      0.52      0.46       331\n",
      "           2       0.43      0.15      0.23       259\n",
      "           3       0.87      0.53      0.66       109\n",
      "           4       1.00      0.62      0.76        99\n",
      "           5       0.00      0.00      0.00        23\n",
      "           6       0.78      0.79      0.79       240\n",
      "           7       0.87      0.76      0.81       169\n",
      "           8       0.77      0.70      0.73        82\n",
      "           9       0.65      0.89      0.75      1283\n",
      "          10       0.61      0.26      0.37       450\n",
      "          11       0.64      0.86      0.73       421\n",
      "          12       0.67      0.03      0.06        62\n",
      "          13       0.00      0.00      0.00        25\n",
      "\n",
      "    accuracy                           0.64      3639\n",
      "   macro avg       0.58      0.44      0.46      3639\n",
      "weighted avg       0.63      0.64      0.60      3639\n",
      "\n",
      "\n",
      "📊 Test Set:\n",
      "Accuracy: 0.6309\n",
      "              precision    recall  f1-score   support\n",
      "\n",
      "           0       0.33      0.10      0.16        88\n",
      "           1       0.41      0.53      0.46       333\n",
      "           2       0.38      0.12      0.18       262\n",
      "           3       0.92      0.54      0.68       111\n",
      "           4       0.95      0.64      0.76        99\n",
      "           5       0.00      0.00      0.00        25\n",
      "           6       0.78      0.74      0.76       239\n",
      "           7       0.87      0.73      0.79       170\n",
      "           8       0.85      0.57      0.68        81\n",
      "           9       0.63      0.89      0.74      1288\n",
      "          10       0.60      0.23      0.33       453\n",
      "          11       0.64      0.88      0.74       424\n",
      "          12       0.50      0.03      0.06        64\n",
      "          13       0.00      0.00      0.00        26\n",
      "\n",
      "    accuracy                           0.63      3663\n",
      "   macro avg       0.56      0.43      0.45      3663\n",
      "weighted avg       0.62      0.63      0.59      3663\n",
      "\n"
     ]
    },
    {
     "name": "stderr",
     "output_type": "stream",
     "text": [
      "c:\\Users\\COChr\\anaconda3\\Lib\\site-packages\\sklearn\\metrics\\_classification.py:1531: UndefinedMetricWarning: Precision is ill-defined and being set to 0.0 in labels with no predicted samples. Use `zero_division` parameter to control this behavior.\n",
      "  _warn_prf(average, modifier, f\"{metric.capitalize()} is\", len(result))\n",
      "c:\\Users\\COChr\\anaconda3\\Lib\\site-packages\\sklearn\\metrics\\_classification.py:1531: UndefinedMetricWarning: Precision is ill-defined and being set to 0.0 in labels with no predicted samples. Use `zero_division` parameter to control this behavior.\n",
      "  _warn_prf(average, modifier, f\"{metric.capitalize()} is\", len(result))\n",
      "c:\\Users\\COChr\\anaconda3\\Lib\\site-packages\\sklearn\\metrics\\_classification.py:1531: UndefinedMetricWarning: Precision is ill-defined and being set to 0.0 in labels with no predicted samples. Use `zero_division` parameter to control this behavior.\n",
      "  _warn_prf(average, modifier, f\"{metric.capitalize()} is\", len(result))\n",
      "c:\\Users\\COChr\\anaconda3\\Lib\\site-packages\\sklearn\\metrics\\_classification.py:1531: UndefinedMetricWarning: Precision is ill-defined and being set to 0.0 in labels with no predicted samples. Use `zero_division` parameter to control this behavior.\n",
      "  _warn_prf(average, modifier, f\"{metric.capitalize()} is\", len(result))\n",
      "c:\\Users\\COChr\\anaconda3\\Lib\\site-packages\\sklearn\\metrics\\_classification.py:1531: UndefinedMetricWarning: Precision is ill-defined and being set to 0.0 in labels with no predicted samples. Use `zero_division` parameter to control this behavior.\n",
      "  _warn_prf(average, modifier, f\"{metric.capitalize()} is\", len(result))\n",
      "c:\\Users\\COChr\\anaconda3\\Lib\\site-packages\\sklearn\\metrics\\_classification.py:1531: UndefinedMetricWarning: Precision is ill-defined and being set to 0.0 in labels with no predicted samples. Use `zero_division` parameter to control this behavior.\n",
      "  _warn_prf(average, modifier, f\"{metric.capitalize()} is\", len(result))\n"
     ]
    }
   ],
   "source": [
    "best_params = {\n",
    "    \"n_estimators\": 300,  # Increase the number of trees for stability\n",
    "    \"max_depth\": 25,  # Allow deeper trees (reduce underfitting)\n",
    "    \"min_samples_split\": 3,  # Allow splitting slightly more\n",
    "    \"min_samples_leaf\": 2,  # Keep leaf nodes small but not too small\n",
    "    \"random_state\": 42,\n",
    "    \"class_weight\": \"balanced_subsample\"  # Adjust for potential class imbalance\n",
    "}\n",
    "\n",
    "# Train a better Random Forest model\n",
    "rf_model = RandomForestClassifier(**best_params)\n",
    "rf_model.fit(train_data_scaled, train_labels_numpy)\n",
    "\n",
    "# Predictions\n",
    "rf_train_predictions = rf_model.predict(train_data_scaled)\n",
    "rf_val_predictions = rf_model.predict(validation_data_scaled)\n",
    "rf_test_predictions = rf_model.predict(test_data_scaled)\n",
    "\n",
    "# Evaluate Performance\n",
    "print(\"\\n Random Forest Performance Metrics:\")\n",
    "print(\"-\" * 50)\n",
    "\n",
    "# Training Set\n",
    "print(\" Training Set:\")\n",
    "print(f\"Accuracy: {accuracy_score(train_labels_numpy, rf_train_predictions):.4f}\")\n",
    "print(classification_report(train_labels_numpy, rf_train_predictions))\n",
    "\n",
    "# Validation Set\n",
    "print(\"\\n Validation Set:\")\n",
    "print(f\"Accuracy: {accuracy_score(validation_labels_numpy, rf_val_predictions):.4f}\")\n",
    "print(classification_report(validation_labels_numpy, rf_val_predictions))\n",
    "\n",
    "# Test Set\n",
    "print(\"\\n Test Set:\")\n",
    "print(f\"Accuracy: {accuracy_score(test_labels_numpy, rf_test_predictions):.4f}\")\n",
    "print(classification_report(test_labels_numpy, rf_test_predictions))\n"
   ]
  },
  {
   "cell_type": "markdown",
   "metadata": {
    "id": "pvTLgI8C3S6N"
   },
   "source": [
    "Basic xgboost Model"
   ]
  },
  {
   "cell_type": "code",
   "execution_count": null,
   "metadata": {
    "id": "i-MsYeJP3Vuk"
   },
   "outputs": [],
   "source": [
    "import xgboost as xgb\n",
    "from sklearn.metrics import classification_report\n",
    "\n",
    "# Initialize and configure the XGBoost model\n",
    "xgb_model = xgb.XGBClassifier(\n",
    "    objective=\"multi:softmax\",  # Multi-class classification\n",
    "    random_state=42            # Ensure reproducibility\n",
    ")\n",
    "\n",
    "# Train the model on scaled training data\n",
    "xgb_model.fit(train_data_scaled, train_labels_numpy)\n",
    "\n",
    "# Make predictions on the test set\n",
    "xgb_predictions = xgb_model.predict(test_data_scaled)\n",
    "\n",
    "# Evaluate the model performance on the test set\n",
    "print(\"\\nXGBoost Model Performance:\")\n",
    "print(classification_report(test_labels_numpy, xgb_predictions))\n"
   ]
  },
  {
   "cell_type": "markdown",
   "metadata": {
    "id": "45rMhBB23he4"
   },
   "source": [
    "BASIC LGBM Model"
   ]
  },
  {
   "cell_type": "code",
   "execution_count": null,
   "metadata": {
    "id": "D6JxjxD13j7H"
   },
   "outputs": [],
   "source": [
    "import lightgbm as lgb\n",
    "from sklearn.metrics import classification_report\n",
    "\n",
    "# Initialize and configure the LGBM model\n",
    "lgb_model = lgb.LGBMClassifier(\n",
    "    objective=\"multiclass\",  \n",
    "    random_state=42          \n",
    ")\n",
    "\n",
    "# Train the model on scaled training data\n",
    "lgb_model.fit(train_data_scaled, train_labels_numpy)\n",
    "\n",
    "# Make predictions on the test set\n",
    "lgb_predictions = lgb_model.predict(test_data_scaled)\n",
    "\n",
    "# Evaluate the model performance on the test set\n",
    "print(\"\\nLightGBM Model Performance:\")\n",
    "print(classification_report(test_labels_numpy, lgb_predictions))\n"
   ]
  },
  {
   "cell_type": "markdown",
   "metadata": {
    "id": "c5Ds6T9u3o5q"
   },
   "source": [
    "FINDIG THE BEST PARAMETER FOR XGBOOST"
   ]
  },
  {
   "cell_type": "code",
   "execution_count": 18,
   "metadata": {
    "colab": {
     "base_uri": "https://localhost:8080/"
    },
    "id": "bF8WPfWahnGV",
    "outputId": "cdafd64a-a3ad-4dfb-f57e-95dee02636f3"
   },
   "outputs": [
    {
     "name": "stdout",
     "output_type": "stream",
     "text": [
      "Fitting 3 folds for each of 100 candidates, totalling 300 fits\n"
     ]
    },
    {
     "ename": "KeyboardInterrupt",
     "evalue": "",
     "output_type": "error",
     "traceback": [
      "\u001b[1;31m---------------------------------------------------------------------------\u001b[0m",
      "\u001b[1;31mKeyboardInterrupt\u001b[0m                         Traceback (most recent call last)",
      "Cell \u001b[1;32mIn[18], line 23\u001b[0m\n\u001b[0;32m     19\u001b[0m grid_search \u001b[38;5;241m=\u001b[39m RandomizedSearchCV(rf_model, param_grid, cv\u001b[38;5;241m=\u001b[39m\u001b[38;5;241m3\u001b[39m, n_iter\u001b[38;5;241m=\u001b[39m\u001b[38;5;241m100\u001b[39m, scoring\u001b[38;5;241m=\u001b[39m\u001b[38;5;124m\"\u001b[39m\u001b[38;5;124maccuracy\u001b[39m\u001b[38;5;124m\"\u001b[39m, n_jobs\u001b[38;5;241m=\u001b[39m\u001b[38;5;241m-\u001b[39m\u001b[38;5;241m1\u001b[39m, verbose\u001b[38;5;241m=\u001b[39m\u001b[38;5;241m2\u001b[39m, random_state\u001b[38;5;241m=\u001b[39m\u001b[38;5;241m42\u001b[39m)\n\u001b[0;32m     22\u001b[0m \u001b[38;5;66;03m# Fit Grid Search on training data\u001b[39;00m\n\u001b[1;32m---> 23\u001b[0m grid_search\u001b[38;5;241m.\u001b[39mfit(train_data_scaled, train_labels_numpy)\n\u001b[0;32m     25\u001b[0m \u001b[38;5;66;03m# Print the best hyperparameters\u001b[39;00m\n\u001b[0;32m     26\u001b[0m \u001b[38;5;28mprint\u001b[39m(\u001b[38;5;124m\"\u001b[39m\u001b[38;5;130;01m\\n\u001b[39;00m\u001b[38;5;124mBest Hyperparameters Found:\u001b[39m\u001b[38;5;124m\"\u001b[39m, grid_search\u001b[38;5;241m.\u001b[39mbest_params_)\n",
      "File \u001b[1;32mc:\\Users\\COChr\\anaconda3\\Lib\\site-packages\\sklearn\\base.py:1473\u001b[0m, in \u001b[0;36m_fit_context.<locals>.decorator.<locals>.wrapper\u001b[1;34m(estimator, *args, **kwargs)\u001b[0m\n\u001b[0;32m   1466\u001b[0m     estimator\u001b[38;5;241m.\u001b[39m_validate_params()\n\u001b[0;32m   1468\u001b[0m \u001b[38;5;28;01mwith\u001b[39;00m config_context(\n\u001b[0;32m   1469\u001b[0m     skip_parameter_validation\u001b[38;5;241m=\u001b[39m(\n\u001b[0;32m   1470\u001b[0m         prefer_skip_nested_validation \u001b[38;5;129;01mor\u001b[39;00m global_skip_validation\n\u001b[0;32m   1471\u001b[0m     )\n\u001b[0;32m   1472\u001b[0m ):\n\u001b[1;32m-> 1473\u001b[0m     \u001b[38;5;28;01mreturn\u001b[39;00m fit_method(estimator, \u001b[38;5;241m*\u001b[39margs, \u001b[38;5;241m*\u001b[39m\u001b[38;5;241m*\u001b[39mkwargs)\n",
      "File \u001b[1;32mc:\\Users\\COChr\\anaconda3\\Lib\\site-packages\\sklearn\\model_selection\\_search.py:1018\u001b[0m, in \u001b[0;36mBaseSearchCV.fit\u001b[1;34m(self, X, y, **params)\u001b[0m\n\u001b[0;32m   1012\u001b[0m     results \u001b[38;5;241m=\u001b[39m \u001b[38;5;28mself\u001b[39m\u001b[38;5;241m.\u001b[39m_format_results(\n\u001b[0;32m   1013\u001b[0m         all_candidate_params, n_splits, all_out, all_more_results\n\u001b[0;32m   1014\u001b[0m     )\n\u001b[0;32m   1016\u001b[0m     \u001b[38;5;28;01mreturn\u001b[39;00m results\n\u001b[1;32m-> 1018\u001b[0m \u001b[38;5;28mself\u001b[39m\u001b[38;5;241m.\u001b[39m_run_search(evaluate_candidates)\n\u001b[0;32m   1020\u001b[0m \u001b[38;5;66;03m# multimetric is determined here because in the case of a callable\u001b[39;00m\n\u001b[0;32m   1021\u001b[0m \u001b[38;5;66;03m# self.scoring the return type is only known after calling\u001b[39;00m\n\u001b[0;32m   1022\u001b[0m first_test_score \u001b[38;5;241m=\u001b[39m all_out[\u001b[38;5;241m0\u001b[39m][\u001b[38;5;124m\"\u001b[39m\u001b[38;5;124mtest_scores\u001b[39m\u001b[38;5;124m\"\u001b[39m]\n",
      "File \u001b[1;32mc:\\Users\\COChr\\anaconda3\\Lib\\site-packages\\sklearn\\model_selection\\_search.py:1959\u001b[0m, in \u001b[0;36mRandomizedSearchCV._run_search\u001b[1;34m(self, evaluate_candidates)\u001b[0m\n\u001b[0;32m   1957\u001b[0m \u001b[38;5;28;01mdef\u001b[39;00m \u001b[38;5;21m_run_search\u001b[39m(\u001b[38;5;28mself\u001b[39m, evaluate_candidates):\n\u001b[0;32m   1958\u001b[0m \u001b[38;5;250m    \u001b[39m\u001b[38;5;124;03m\"\"\"Search n_iter candidates from param_distributions\"\"\"\u001b[39;00m\n\u001b[1;32m-> 1959\u001b[0m     evaluate_candidates(\n\u001b[0;32m   1960\u001b[0m         ParameterSampler(\n\u001b[0;32m   1961\u001b[0m             \u001b[38;5;28mself\u001b[39m\u001b[38;5;241m.\u001b[39mparam_distributions, \u001b[38;5;28mself\u001b[39m\u001b[38;5;241m.\u001b[39mn_iter, random_state\u001b[38;5;241m=\u001b[39m\u001b[38;5;28mself\u001b[39m\u001b[38;5;241m.\u001b[39mrandom_state\n\u001b[0;32m   1962\u001b[0m         )\n\u001b[0;32m   1963\u001b[0m     )\n",
      "File \u001b[1;32mc:\\Users\\COChr\\anaconda3\\Lib\\site-packages\\sklearn\\model_selection\\_search.py:964\u001b[0m, in \u001b[0;36mBaseSearchCV.fit.<locals>.evaluate_candidates\u001b[1;34m(candidate_params, cv, more_results)\u001b[0m\n\u001b[0;32m    956\u001b[0m \u001b[38;5;28;01mif\u001b[39;00m \u001b[38;5;28mself\u001b[39m\u001b[38;5;241m.\u001b[39mverbose \u001b[38;5;241m>\u001b[39m \u001b[38;5;241m0\u001b[39m:\n\u001b[0;32m    957\u001b[0m     \u001b[38;5;28mprint\u001b[39m(\n\u001b[0;32m    958\u001b[0m         \u001b[38;5;124m\"\u001b[39m\u001b[38;5;124mFitting \u001b[39m\u001b[38;5;132;01m{0}\u001b[39;00m\u001b[38;5;124m folds for each of \u001b[39m\u001b[38;5;132;01m{1}\u001b[39;00m\u001b[38;5;124m candidates,\u001b[39m\u001b[38;5;124m\"\u001b[39m\n\u001b[0;32m    959\u001b[0m         \u001b[38;5;124m\"\u001b[39m\u001b[38;5;124m totalling \u001b[39m\u001b[38;5;132;01m{2}\u001b[39;00m\u001b[38;5;124m fits\u001b[39m\u001b[38;5;124m\"\u001b[39m\u001b[38;5;241m.\u001b[39mformat(\n\u001b[0;32m    960\u001b[0m             n_splits, n_candidates, n_candidates \u001b[38;5;241m*\u001b[39m n_splits\n\u001b[0;32m    961\u001b[0m         )\n\u001b[0;32m    962\u001b[0m     )\n\u001b[1;32m--> 964\u001b[0m out \u001b[38;5;241m=\u001b[39m parallel(\n\u001b[0;32m    965\u001b[0m     delayed(_fit_and_score)(\n\u001b[0;32m    966\u001b[0m         clone(base_estimator),\n\u001b[0;32m    967\u001b[0m         X,\n\u001b[0;32m    968\u001b[0m         y,\n\u001b[0;32m    969\u001b[0m         train\u001b[38;5;241m=\u001b[39mtrain,\n\u001b[0;32m    970\u001b[0m         test\u001b[38;5;241m=\u001b[39mtest,\n\u001b[0;32m    971\u001b[0m         parameters\u001b[38;5;241m=\u001b[39mparameters,\n\u001b[0;32m    972\u001b[0m         split_progress\u001b[38;5;241m=\u001b[39m(split_idx, n_splits),\n\u001b[0;32m    973\u001b[0m         candidate_progress\u001b[38;5;241m=\u001b[39m(cand_idx, n_candidates),\n\u001b[0;32m    974\u001b[0m         \u001b[38;5;241m*\u001b[39m\u001b[38;5;241m*\u001b[39mfit_and_score_kwargs,\n\u001b[0;32m    975\u001b[0m     )\n\u001b[0;32m    976\u001b[0m     \u001b[38;5;28;01mfor\u001b[39;00m (cand_idx, parameters), (split_idx, (train, test)) \u001b[38;5;129;01min\u001b[39;00m product(\n\u001b[0;32m    977\u001b[0m         \u001b[38;5;28menumerate\u001b[39m(candidate_params),\n\u001b[0;32m    978\u001b[0m         \u001b[38;5;28menumerate\u001b[39m(cv\u001b[38;5;241m.\u001b[39msplit(X, y, \u001b[38;5;241m*\u001b[39m\u001b[38;5;241m*\u001b[39mrouted_params\u001b[38;5;241m.\u001b[39msplitter\u001b[38;5;241m.\u001b[39msplit)),\n\u001b[0;32m    979\u001b[0m     )\n\u001b[0;32m    980\u001b[0m )\n\u001b[0;32m    982\u001b[0m \u001b[38;5;28;01mif\u001b[39;00m \u001b[38;5;28mlen\u001b[39m(out) \u001b[38;5;241m<\u001b[39m \u001b[38;5;241m1\u001b[39m:\n\u001b[0;32m    983\u001b[0m     \u001b[38;5;28;01mraise\u001b[39;00m \u001b[38;5;167;01mValueError\u001b[39;00m(\n\u001b[0;32m    984\u001b[0m         \u001b[38;5;124m\"\u001b[39m\u001b[38;5;124mNo fits were performed. \u001b[39m\u001b[38;5;124m\"\u001b[39m\n\u001b[0;32m    985\u001b[0m         \u001b[38;5;124m\"\u001b[39m\u001b[38;5;124mWas the CV iterator empty? \u001b[39m\u001b[38;5;124m\"\u001b[39m\n\u001b[0;32m    986\u001b[0m         \u001b[38;5;124m\"\u001b[39m\u001b[38;5;124mWere there no candidates?\u001b[39m\u001b[38;5;124m\"\u001b[39m\n\u001b[0;32m    987\u001b[0m     )\n",
      "File \u001b[1;32mc:\\Users\\COChr\\anaconda3\\Lib\\site-packages\\sklearn\\utils\\parallel.py:74\u001b[0m, in \u001b[0;36mParallel.__call__\u001b[1;34m(self, iterable)\u001b[0m\n\u001b[0;32m     69\u001b[0m config \u001b[38;5;241m=\u001b[39m get_config()\n\u001b[0;32m     70\u001b[0m iterable_with_config \u001b[38;5;241m=\u001b[39m (\n\u001b[0;32m     71\u001b[0m     (_with_config(delayed_func, config), args, kwargs)\n\u001b[0;32m     72\u001b[0m     \u001b[38;5;28;01mfor\u001b[39;00m delayed_func, args, kwargs \u001b[38;5;129;01min\u001b[39;00m iterable\n\u001b[0;32m     73\u001b[0m )\n\u001b[1;32m---> 74\u001b[0m \u001b[38;5;28;01mreturn\u001b[39;00m \u001b[38;5;28msuper\u001b[39m()\u001b[38;5;241m.\u001b[39m\u001b[38;5;21m__call__\u001b[39m(iterable_with_config)\n",
      "File \u001b[1;32mc:\\Users\\COChr\\anaconda3\\Lib\\site-packages\\joblib\\parallel.py:2007\u001b[0m, in \u001b[0;36mParallel.__call__\u001b[1;34m(self, iterable)\u001b[0m\n\u001b[0;32m   2001\u001b[0m \u001b[38;5;66;03m# The first item from the output is blank, but it makes the interpreter\u001b[39;00m\n\u001b[0;32m   2002\u001b[0m \u001b[38;5;66;03m# progress until it enters the Try/Except block of the generator and\u001b[39;00m\n\u001b[0;32m   2003\u001b[0m \u001b[38;5;66;03m# reaches the first `yield` statement. This starts the asynchronous\u001b[39;00m\n\u001b[0;32m   2004\u001b[0m \u001b[38;5;66;03m# dispatch of the tasks to the workers.\u001b[39;00m\n\u001b[0;32m   2005\u001b[0m \u001b[38;5;28mnext\u001b[39m(output)\n\u001b[1;32m-> 2007\u001b[0m \u001b[38;5;28;01mreturn\u001b[39;00m output \u001b[38;5;28;01mif\u001b[39;00m \u001b[38;5;28mself\u001b[39m\u001b[38;5;241m.\u001b[39mreturn_generator \u001b[38;5;28;01melse\u001b[39;00m \u001b[38;5;28mlist\u001b[39m(output)\n",
      "File \u001b[1;32mc:\\Users\\COChr\\anaconda3\\Lib\\site-packages\\joblib\\parallel.py:1650\u001b[0m, in \u001b[0;36mParallel._get_outputs\u001b[1;34m(self, iterator, pre_dispatch)\u001b[0m\n\u001b[0;32m   1647\u001b[0m     \u001b[38;5;28;01myield\u001b[39;00m\n\u001b[0;32m   1649\u001b[0m     \u001b[38;5;28;01mwith\u001b[39;00m \u001b[38;5;28mself\u001b[39m\u001b[38;5;241m.\u001b[39m_backend\u001b[38;5;241m.\u001b[39mretrieval_context():\n\u001b[1;32m-> 1650\u001b[0m         \u001b[38;5;28;01myield from\u001b[39;00m \u001b[38;5;28mself\u001b[39m\u001b[38;5;241m.\u001b[39m_retrieve()\n\u001b[0;32m   1652\u001b[0m \u001b[38;5;28;01mexcept\u001b[39;00m \u001b[38;5;167;01mGeneratorExit\u001b[39;00m:\n\u001b[0;32m   1653\u001b[0m     \u001b[38;5;66;03m# The generator has been garbage collected before being fully\u001b[39;00m\n\u001b[0;32m   1654\u001b[0m     \u001b[38;5;66;03m# consumed. This aborts the remaining tasks if possible and warn\u001b[39;00m\n\u001b[0;32m   1655\u001b[0m     \u001b[38;5;66;03m# the user if necessary.\u001b[39;00m\n\u001b[0;32m   1656\u001b[0m     \u001b[38;5;28mself\u001b[39m\u001b[38;5;241m.\u001b[39m_exception \u001b[38;5;241m=\u001b[39m \u001b[38;5;28;01mTrue\u001b[39;00m\n",
      "File \u001b[1;32mc:\\Users\\COChr\\anaconda3\\Lib\\site-packages\\joblib\\parallel.py:1762\u001b[0m, in \u001b[0;36mParallel._retrieve\u001b[1;34m(self)\u001b[0m\n\u001b[0;32m   1757\u001b[0m \u001b[38;5;66;03m# If the next job is not ready for retrieval yet, we just wait for\u001b[39;00m\n\u001b[0;32m   1758\u001b[0m \u001b[38;5;66;03m# async callbacks to progress.\u001b[39;00m\n\u001b[0;32m   1759\u001b[0m \u001b[38;5;28;01mif\u001b[39;00m ((\u001b[38;5;28mlen\u001b[39m(\u001b[38;5;28mself\u001b[39m\u001b[38;5;241m.\u001b[39m_jobs) \u001b[38;5;241m==\u001b[39m \u001b[38;5;241m0\u001b[39m) \u001b[38;5;129;01mor\u001b[39;00m\n\u001b[0;32m   1760\u001b[0m     (\u001b[38;5;28mself\u001b[39m\u001b[38;5;241m.\u001b[39m_jobs[\u001b[38;5;241m0\u001b[39m]\u001b[38;5;241m.\u001b[39mget_status(\n\u001b[0;32m   1761\u001b[0m         timeout\u001b[38;5;241m=\u001b[39m\u001b[38;5;28mself\u001b[39m\u001b[38;5;241m.\u001b[39mtimeout) \u001b[38;5;241m==\u001b[39m TASK_PENDING)):\n\u001b[1;32m-> 1762\u001b[0m     time\u001b[38;5;241m.\u001b[39msleep(\u001b[38;5;241m0.01\u001b[39m)\n\u001b[0;32m   1763\u001b[0m     \u001b[38;5;28;01mcontinue\u001b[39;00m\n\u001b[0;32m   1765\u001b[0m \u001b[38;5;66;03m# We need to be careful: the job list can be filling up as\u001b[39;00m\n\u001b[0;32m   1766\u001b[0m \u001b[38;5;66;03m# we empty it and Python list are not thread-safe by\u001b[39;00m\n\u001b[0;32m   1767\u001b[0m \u001b[38;5;66;03m# default hence the use of the lock\u001b[39;00m\n",
      "\u001b[1;31mKeyboardInterrupt\u001b[0m: "
     ]
    }
   ],
   "source": [
    "import optuna\n",
    "import xgboost as xgb\n",
    "from sklearn.metrics import accuracy_score\n",
    "\n",
    "def objective(trial):\n",
    "    params = {\n",
    "        \"n_estimators\": trial.suggest_int(\"n_estimators\", 100, 1000),\n",
    "        \"max_depth\": trial.suggest_int(\"max_depth\", 3, 50),\n",
    "        \"learning_rate\": trial.suggest_float(\"learning_rate\", 0.01, 0.2),\n",
    "        \"subsample\": trial.suggest_float(\"subsample\", 0.6, 1.0),\n",
    "        \"colsample_bytree\": trial.suggest_float(\"colsample_bytree\", 0.6, 1.0),\n",
    "        \"gamma\": trial.suggest_float(\"gamma\", 0, 0.3),\n",
    "    }\n",
    "\n",
    "    # Define the XGBoost model\n",
    "    model = xgb.XGBClassifier(\n",
    "        objective=\"multi:softmax\",\n",
    "        eval_metric=\"mlogloss\",\n",
    "        tree_method=\"gpu_hist\",  \n",
    "        random_state=42,\n",
    "        enable_categorical=False,  \n",
    "        **params\n",
    "    )\n",
    "\n",
    "    # Train the model on scaled training data\n",
    "    model.fit(\n",
    "        train_data_scaled, train_labels_numpy,\n",
    "        eval_set=[(validation_data_scaled, validation_labels_numpy)],  \n",
    "        verbose=False  \n",
    "    )\n",
    "\n",
    "    # Predict on validation data\n",
    "    preds = model.predict(validation_data_scaled)\n",
    "    return accuracy_score(validation_labels_numpy, preds)\n",
    "\n",
    "# Run the Optuna hyperparameter optimization\n",
    "study = optuna.create_study(direction=\"maximize\")\n",
    "study.optimize(objective, n_trials=100)\n",
    "\n",
    "# Print best parameters\n",
    "print(\"\\nBest Parameters Found:\", study.best_params)\n"
   ]
  },
  {
   "cell_type": "code",
   "execution_count": null,
   "metadata": {
    "colab": {
     "base_uri": "https://localhost:8080/"
    },
    "executionInfo": {
     "elapsed": 493393,
     "status": "ok",
     "timestamp": 1738142445053,
     "user": {
      "displayName": "Christoffer Olsen",
      "userId": "05652060910169124290"
     },
     "user_tz": -60
    },
    "id": "IHVUXxLGRv23",
    "outputId": "f748f565-c1fd-4ea8-869d-be16b13965f7"
   },
   "outputs": [
    {
     "name": "stderr",
     "output_type": "stream",
     "text": [
      "/usr/local/lib/python3.11/dist-packages/xgboost/core.py:158: UserWarning: [09:12:33] WARNING: /workspace/src/common/error_msg.cc:27: The tree method `gpu_hist` is deprecated since 2.0.0. To use GPU training, set the `device` parameter to CUDA instead.\n",
      "\n",
      "    E.g. tree_method = \"hist\", device = \"cuda\"\n",
      "\n",
      "  warnings.warn(smsg, UserWarning)\n",
      "/usr/local/lib/python3.11/dist-packages/xgboost/core.py:158: UserWarning: [09:20:44] WARNING: /workspace/src/common/error_msg.cc:27: The tree method `gpu_hist` is deprecated since 2.0.0. To use GPU training, set the `device` parameter to CUDA instead.\n",
      "\n",
      "    E.g. tree_method = \"hist\", device = \"cuda\"\n",
      "\n",
      "  warnings.warn(smsg, UserWarning)\n",
      "/usr/local/lib/python3.11/dist-packages/xgboost/core.py:158: UserWarning: [09:20:44] WARNING: /workspace/src/common/error_msg.cc:58: Falling back to prediction using DMatrix due to mismatched devices. This might lead to higher memory usage and slower performance. XGBoost is running on: cuda:0, while the input data is on: cpu.\n",
      "Potential solutions:\n",
      "- Use a data structure that matches the device ordinal in the booster.\n",
      "- Set the device for booster before call to inplace_predict.\n",
      "\n",
      "This warning will only be shown once.\n",
      "\n",
      "  warnings.warn(smsg, UserWarning)\n"
     ]
    },
    {
     "name": "stdout",
     "output_type": "stream",
     "text": [
      "\n",
      "Final Test Set Performance:\n",
      "              precision    recall  f1-score   support\n",
      "\n",
      "           0       0.28      0.06      0.09        88\n",
      "           1       0.46      0.54      0.50       333\n",
      "           2       0.52      0.13      0.21       262\n",
      "           3       0.85      0.58      0.69       111\n",
      "           4       0.89      0.69      0.78        99\n",
      "           5       0.00      0.00      0.00        25\n",
      "           6       0.85      0.79      0.82       239\n",
      "           7       0.85      0.75      0.79       170\n",
      "           8       0.87      0.57      0.69        81\n",
      "           9       0.66      0.91      0.77      1288\n",
      "          10       0.56      0.36      0.44       453\n",
      "          11       0.69      0.91      0.79       424\n",
      "          12       0.60      0.05      0.09        64\n",
      "          13       0.00      0.00      0.00        26\n",
      "\n",
      "    accuracy                           0.67      3663\n",
      "   macro avg       0.58      0.45      0.47      3663\n",
      "weighted avg       0.64      0.67      0.63      3663\n",
      "\n"
     ]
    },
    {
     "name": "stderr",
     "output_type": "stream",
     "text": [
      "/usr/local/lib/python3.11/dist-packages/sklearn/metrics/_classification.py:1565: UndefinedMetricWarning: Precision is ill-defined and being set to 0.0 in labels with no predicted samples. Use `zero_division` parameter to control this behavior.\n",
      "  _warn_prf(average, modifier, f\"{metric.capitalize()} is\", len(result))\n",
      "/usr/local/lib/python3.11/dist-packages/sklearn/metrics/_classification.py:1565: UndefinedMetricWarning: Precision is ill-defined and being set to 0.0 in labels with no predicted samples. Use `zero_division` parameter to control this behavior.\n",
      "  _warn_prf(average, modifier, f\"{metric.capitalize()} is\", len(result))\n",
      "/usr/local/lib/python3.11/dist-packages/sklearn/metrics/_classification.py:1565: UndefinedMetricWarning: Precision is ill-defined and being set to 0.0 in labels with no predicted samples. Use `zero_division` parameter to control this behavior.\n",
      "  _warn_prf(average, modifier, f\"{metric.capitalize()} is\", len(result))\n"
     ]
    }
   ],
   "source": [
    "import xgboost as xgb\n",
    "from sklearn.metrics import classification_report\n",
    "\n",
    "# Define the final model using the best parameters found by Optuna\n",
    "final_model = xgb.XGBClassifier(\n",
    "    n_estimators=670,\n",
    "    max_depth=44,\n",
    "    learning_rate=0.04303725372313019,\n",
    "    subsample=0.6029115855774464,\n",
    "    colsample_bytree=0.6000667872069467,\n",
    "    gamma=0.020130953938987152,\n",
    "    objective=\"multi:softmax\",\n",
    "    eval_metric=\"mlogloss\",\n",
    "    tree_method=\"gpu_hist\",\n",
    "    enable_categorical=False,\n",
    "    random_state=42\n",
    ")\n",
    "\n",
    "# Train the model on the processed training data\n",
    "final_model.fit(train_dataset_32_numpy, train_labels_numpy)\n",
    "\n",
    "# Make predictions on the processed test set\n",
    "test_preds = final_model.predict(test_dataset_32_numpy)\n",
    "\n",
    "# Evaluate the model's performance on the test set\n",
    "print(\"\\nFinal Test Set Performance:\")\n",
    "print(classification_report(test_labels_numpy, test_preds))\n"
   ]
  },
  {
   "cell_type": "markdown",
   "metadata": {
    "id": "W7rx-NdseqiP"
   },
   "source": [
    "Combined STacking method (SVM and XGBoost)"
   ]
  },
  {
   "cell_type": "code",
   "execution_count": 16,
   "metadata": {
    "id": "mYRrVnGozjL4"
   },
   "outputs": [
    {
     "name": "stderr",
     "output_type": "stream",
     "text": [
      "c:\\Users\\COChr\\anaconda3\\Lib\\site-packages\\sklearn\\linear_model\\_logistic.py:469: ConvergenceWarning: lbfgs failed to converge (status=1):\n",
      "STOP: TOTAL NO. of ITERATIONS REACHED LIMIT.\n",
      "\n",
      "Increase the number of iterations (max_iter) or scale the data as shown in:\n",
      "    https://scikit-learn.org/stable/modules/preprocessing.html\n",
      "Please also refer to the documentation for alternative solver options:\n",
      "    https://scikit-learn.org/stable/modules/linear_model.html#logistic-regression\n",
      "  n_iter_i = _check_optimize_result(\n"
     ]
    },
    {
     "name": "stdout",
     "output_type": "stream",
     "text": [
      "\n",
      "Stacking Performance:\n",
      "--------------------------------------------------\n",
      "Training Set:\n",
      "Accuracy: 0.9860\n",
      "              precision    recall  f1-score   support\n",
      "\n",
      "           0       0.90      0.99      0.95       548\n",
      "           1       0.93      1.00      0.96      2122\n",
      "           2       1.00      1.00      1.00      1670\n",
      "           3       1.00      1.00      1.00       666\n",
      "           4       1.00      1.00      1.00       594\n",
      "           5       0.00      0.00      0.00       153\n",
      "           6       1.00      1.00      1.00      1450\n",
      "           7       1.00      1.00      1.00      1026\n",
      "           8       1.00      1.00      1.00       490\n",
      "           9       1.00      1.00      1.00      8230\n",
      "          10       1.00      1.00      1.00      2889\n",
      "          11       0.99      1.00      1.00      2521\n",
      "          12       0.83      1.00      0.91       402\n",
      "          13       0.00      0.00      0.00       161\n",
      "\n",
      "    accuracy                           0.99     22922\n",
      "   macro avg       0.83      0.86      0.84     22922\n",
      "weighted avg       0.97      0.99      0.98     22922\n",
      "\n",
      "\n",
      "Validation Set:\n",
      "Accuracy: 0.9866\n",
      "              precision    recall  f1-score   support\n",
      "\n",
      "           0       0.91      0.99      0.94        69\n",
      "           1       0.93      1.00      0.96       265\n",
      "           2       0.99      1.00      1.00       207\n",
      "           3       1.00      1.00      1.00        87\n",
      "           4       1.00      1.00      1.00        79\n",
      "           5       0.00      0.00      0.00        18\n",
      "           6       1.00      1.00      1.00       192\n",
      "           7       1.00      1.00      1.00       135\n",
      "           8       1.00      1.00      1.00        66\n",
      "           9       1.00      1.00      1.00      1026\n",
      "          10       1.00      1.00      1.00       360\n",
      "          11       0.99      1.00      0.99       337\n",
      "          12       0.91      1.00      0.95        50\n",
      "          13       0.00      0.00      0.00        20\n",
      "\n",
      "    accuracy                           0.99      2911\n",
      "   macro avg       0.84      0.86      0.85      2911\n",
      "weighted avg       0.97      0.99      0.98      2911\n",
      "\n",
      "\n",
      "Test Set:\n",
      "Accuracy: 0.6584\n",
      "              precision    recall  f1-score   support\n",
      "\n",
      "           0       0.45      0.14      0.22        71\n",
      "           1       0.44      0.54      0.49       266\n",
      "           2       0.48      0.19      0.27       210\n",
      "           3       0.80      0.66      0.72        89\n",
      "           4       0.86      0.71      0.78        79\n",
      "           5       0.00      0.00      0.00        20\n",
      "           6       0.84      0.74      0.79       191\n",
      "           7       0.74      0.73      0.73       136\n",
      "           8       0.78      0.58      0.67        65\n",
      "           9       0.67      0.90      0.77      1030\n",
      "          10       0.55      0.35      0.43       362\n",
      "          11       0.72      0.86      0.78       339\n",
      "          12       0.50      0.06      0.11        51\n",
      "          13       0.00      0.00      0.00        21\n",
      "\n",
      "    accuracy                           0.66      2930\n",
      "   macro avg       0.56      0.46      0.48      2930\n",
      "weighted avg       0.64      0.66      0.63      2930\n",
      "\n"
     ]
    },
    {
     "name": "stderr",
     "output_type": "stream",
     "text": [
      "c:\\Users\\COChr\\anaconda3\\Lib\\site-packages\\sklearn\\metrics\\_classification.py:1531: UndefinedMetricWarning: Precision is ill-defined and being set to 0.0 in labels with no predicted samples. Use `zero_division` parameter to control this behavior.\n",
      "  _warn_prf(average, modifier, f\"{metric.capitalize()} is\", len(result))\n",
      "c:\\Users\\COChr\\anaconda3\\Lib\\site-packages\\sklearn\\metrics\\_classification.py:1531: UndefinedMetricWarning: Precision is ill-defined and being set to 0.0 in labels with no predicted samples. Use `zero_division` parameter to control this behavior.\n",
      "  _warn_prf(average, modifier, f\"{metric.capitalize()} is\", len(result))\n",
      "c:\\Users\\COChr\\anaconda3\\Lib\\site-packages\\sklearn\\metrics\\_classification.py:1531: UndefinedMetricWarning: Precision is ill-defined and being set to 0.0 in labels with no predicted samples. Use `zero_division` parameter to control this behavior.\n",
      "  _warn_prf(average, modifier, f\"{metric.capitalize()} is\", len(result))\n",
      "c:\\Users\\COChr\\anaconda3\\Lib\\site-packages\\sklearn\\metrics\\_classification.py:1531: UndefinedMetricWarning: Precision is ill-defined and being set to 0.0 in labels with no predicted samples. Use `zero_division` parameter to control this behavior.\n",
      "  _warn_prf(average, modifier, f\"{metric.capitalize()} is\", len(result))\n",
      "c:\\Users\\COChr\\anaconda3\\Lib\\site-packages\\sklearn\\metrics\\_classification.py:1531: UndefinedMetricWarning: Precision is ill-defined and being set to 0.0 in labels with no predicted samples. Use `zero_division` parameter to control this behavior.\n",
      "  _warn_prf(average, modifier, f\"{metric.capitalize()} is\", len(result))\n",
      "c:\\Users\\COChr\\anaconda3\\Lib\\site-packages\\sklearn\\metrics\\_classification.py:1531: UndefinedMetricWarning: Precision is ill-defined and being set to 0.0 in labels with no predicted samples. Use `zero_division` parameter to control this behavior.\n",
      "  _warn_prf(average, modifier, f\"{metric.capitalize()} is\", len(result))\n",
      "c:\\Users\\COChr\\anaconda3\\Lib\\site-packages\\sklearn\\metrics\\_classification.py:1531: UndefinedMetricWarning: Precision is ill-defined and being set to 0.0 in labels with no predicted samples. Use `zero_division` parameter to control this behavior.\n",
      "  _warn_prf(average, modifier, f\"{metric.capitalize()} is\", len(result))\n",
      "c:\\Users\\COChr\\anaconda3\\Lib\\site-packages\\sklearn\\metrics\\_classification.py:1531: UndefinedMetricWarning: Precision is ill-defined and being set to 0.0 in labels with no predicted samples. Use `zero_division` parameter to control this behavior.\n",
      "  _warn_prf(average, modifier, f\"{metric.capitalize()} is\", len(result))\n",
      "c:\\Users\\COChr\\anaconda3\\Lib\\site-packages\\sklearn\\metrics\\_classification.py:1531: UndefinedMetricWarning: Precision is ill-defined and being set to 0.0 in labels with no predicted samples. Use `zero_division` parameter to control this behavior.\n",
      "  _warn_prf(average, modifier, f\"{metric.capitalize()} is\", len(result))\n"
     ]
    }
   ],
   "source": [
    "from sklearn.ensemble import StackingClassifier\n",
    "from sklearn.linear_model import LogisticRegression\n",
    "from sklearn.svm import SVC\n",
    "from sklearn.metrics import accuracy_score, classification_report\n",
    "import xgboost as xgb\n",
    "import numpy as np\n",
    "from sklearn.model_selection import train_test_split\n",
    "\n",
    "# Reduce dataset to 50% using train_test_split\n",
    "train_data_reduced, _, train_labels_reduced, _ = train_test_split(\n",
    "    train_data_scaled, train_labels_numpy, test_size=0.2, random_state=42, stratify=train_labels_numpy\n",
    ")\n",
    "\n",
    "validation_data_reduced, _, validation_labels_reduced, _ = train_test_split(\n",
    "    validation_data_scaled, validation_labels_numpy, test_size=0.2, random_state=42, stratify=validation_labels_numpy\n",
    ")\n",
    "\n",
    "test_data_reduced, _, test_labels_reduced, _ = train_test_split(\n",
    "    test_data_scaled, test_labels_numpy, test_size=0.2, random_state=42, stratify=test_labels_numpy\n",
    ")\n",
    "\n",
    "# Define SVM model with the best parameters\n",
    "svm_model = SVC(kernel='rbf', C=5, decision_function_shape='ovr', probability=True, random_state=42)\n",
    "\n",
    "# Best XGBoost parameters (from Optuna)\n",
    "xgb_best_params = {\n",
    "    \"n_estimators\": 670,\n",
    "    \"max_depth\": 44,\n",
    "    \"learning_rate\": 0.04303725372313019,\n",
    "    \"subsample\": 0.6029115855774464,\n",
    "    \"colsample_bytree\": 0.6000667872069467,\n",
    "    \"gamma\": 0.020130953938987152\n",
    "}\n",
    "\n",
    "# Initialize XGBoost model with optimized parameters\n",
    "xgb_model = xgb.XGBClassifier(\n",
    "    objective=\"multi:softmax\",   \n",
    "    eval_metric=\"mlogloss\",      \n",
    "    tree_method=\"hist\",          \n",
    "    enable_categorical=False,\n",
    "    random_state=42,\n",
    "    **xgb_best_params\n",
    ")\n",
    "\n",
    "# Meta-model: Logistic Regression\n",
    "meta_model = LogisticRegression()\n",
    "\n",
    "# Combine reduced training and validation data for stacking\n",
    "combined_train_data = np.vstack([train_data_reduced, validation_data_reduced])  \n",
    "combined_train_labels = np.hstack([train_labels_reduced, validation_labels_reduced])  \n",
    "\n",
    "# Stacking classifier\n",
    "stacking_clf = StackingClassifier(\n",
    "    estimators=[\n",
    "        ('svm', svm_model),\n",
    "        ('xgb', xgb_model)\n",
    "    ],\n",
    "    final_estimator=meta_model,  \n",
    "    cv=2  \n",
    ")\n",
    "\n",
    "# Train the stacking classifier on reduced data\n",
    "stacking_clf.fit(combined_train_data, combined_train_labels)\n",
    "\n",
    "# Make predictions using reduced datasets\n",
    "train_predictions = stacking_clf.predict(train_data_reduced)  \n",
    "val_predictions = stacking_clf.predict(validation_data_reduced) \n",
    "test_predictions = stacking_clf.predict(test_data_reduced)  \n",
    "\n",
    "# Evaluate performance\n",
    "print(\"\\nStacking Performance:\")\n",
    "print(\"-\" * 50)\n",
    "\n",
    "# Training Set Performance\n",
    "print(\"Training Set:\")\n",
    "print(f\"Accuracy: {accuracy_score(train_labels_reduced, train_predictions):.4f}\")\n",
    "print(classification_report(train_labels_reduced, train_predictions))\n",
    "\n",
    "# Validation Set Performance\n",
    "print(\"\\nValidation Set:\")\n",
    "print(f\"Accuracy: {accuracy_score(validation_labels_reduced, val_predictions):.4f}\")\n",
    "print(classification_report(validation_labels_reduced, val_predictions))\n",
    "\n",
    "# Test Set Performance\n",
    "print(\"\\nTest Set:\")\n",
    "print(f\"Accuracy: {accuracy_score(test_labels_reduced, test_predictions):.4f}\")\n",
    "print(classification_report(test_labels_reduced, test_predictions))\n"
   ]
  }
 ],
 "metadata": {
  "accelerator": "GPU",
  "colab": {
   "gpuType": "L4",
   "machine_shape": "hm",
   "provenance": []
  },
  "kernelspec": {
   "display_name": "base",
   "language": "python",
   "name": "python3"
  },
  "language_info": {
   "codemirror_mode": {
    "name": "ipython",
    "version": 3
   },
   "file_extension": ".py",
   "mimetype": "text/x-python",
   "name": "python",
   "nbconvert_exporter": "python",
   "pygments_lexer": "ipython3",
   "version": "3.12.7"
  },
  "widgets": {
   "application/vnd.jupyter.widget-state+json": {
    "014560afa2224ed399f5d0068a51326c": {
     "model_module": "@jupyter-widgets/controls",
     "model_module_version": "1.5.0",
     "model_name": "ProgressStyleModel",
     "state": {
      "_model_module": "@jupyter-widgets/controls",
      "_model_module_version": "1.5.0",
      "_model_name": "ProgressStyleModel",
      "_view_count": null,
      "_view_module": "@jupyter-widgets/base",
      "_view_module_version": "1.2.0",
      "_view_name": "StyleView",
      "bar_color": null,
      "description_width": ""
     }
    },
    "118f91a0900b47e88fc44b7cef818710": {
     "model_module": "@jupyter-widgets/base",
     "model_module_version": "1.2.0",
     "model_name": "LayoutModel",
     "state": {
      "_model_module": "@jupyter-widgets/base",
      "_model_module_version": "1.2.0",
      "_model_name": "LayoutModel",
      "_view_count": null,
      "_view_module": "@jupyter-widgets/base",
      "_view_module_version": "1.2.0",
      "_view_name": "LayoutView",
      "align_content": null,
      "align_items": null,
      "align_self": null,
      "border": null,
      "bottom": null,
      "display": null,
      "flex": null,
      "flex_flow": null,
      "grid_area": null,
      "grid_auto_columns": null,
      "grid_auto_flow": null,
      "grid_auto_rows": null,
      "grid_column": null,
      "grid_gap": null,
      "grid_row": null,
      "grid_template_areas": null,
      "grid_template_columns": null,
      "grid_template_rows": null,
      "height": null,
      "justify_content": null,
      "justify_items": null,
      "left": null,
      "margin": null,
      "max_height": null,
      "max_width": null,
      "min_height": null,
      "min_width": null,
      "object_fit": null,
      "object_position": null,
      "order": null,
      "overflow": null,
      "overflow_x": null,
      "overflow_y": null,
      "padding": null,
      "right": null,
      "top": null,
      "visibility": null,
      "width": null
     }
    },
    "126e2261a302497faf0e7a8b70adba24": {
     "model_module": "@jupyter-widgets/controls",
     "model_module_version": "1.5.0",
     "model_name": "HTMLModel",
     "state": {
      "_dom_classes": [],
      "_model_module": "@jupyter-widgets/controls",
      "_model_module_version": "1.5.0",
      "_model_name": "HTMLModel",
      "_view_count": null,
      "_view_module": "@jupyter-widgets/controls",
      "_view_module_version": "1.5.0",
      "_view_name": "HTMLView",
      "description": "",
      "description_tooltip": null,
      "layout": "IPY_MODEL_70343d0319ce42c89f0372890948223a",
      "placeholder": "​",
      "style": "IPY_MODEL_f501f74d21af4ac69c05161d07f61dba",
      "value": " 24/24 [00:00&lt;00:00,  3.46it/s]"
     }
    },
    "28b2c9844c0c4822977c87044bbecde7": {
     "model_module": "@jupyter-widgets/controls",
     "model_module_version": "1.5.0",
     "model_name": "FloatProgressModel",
     "state": {
      "_dom_classes": [],
      "_model_module": "@jupyter-widgets/controls",
      "_model_module_version": "1.5.0",
      "_model_name": "FloatProgressModel",
      "_view_count": null,
      "_view_module": "@jupyter-widgets/controls",
      "_view_module_version": "1.5.0",
      "_view_name": "ProgressView",
      "bar_style": "success",
      "description": "",
      "description_tooltip": null,
      "layout": "IPY_MODEL_118f91a0900b47e88fc44b7cef818710",
      "max": 24,
      "min": 0,
      "orientation": "horizontal",
      "style": "IPY_MODEL_59002520f5054ffa9d064f590c43c1a8",
      "value": 24
     }
    },
    "2f0447b999f349029446ecb7461bf1d6": {
     "model_module": "@jupyter-widgets/base",
     "model_module_version": "1.2.0",
     "model_name": "LayoutModel",
     "state": {
      "_model_module": "@jupyter-widgets/base",
      "_model_module_version": "1.2.0",
      "_model_name": "LayoutModel",
      "_view_count": null,
      "_view_module": "@jupyter-widgets/base",
      "_view_module_version": "1.2.0",
      "_view_name": "LayoutView",
      "align_content": null,
      "align_items": null,
      "align_self": null,
      "border": null,
      "bottom": null,
      "display": null,
      "flex": null,
      "flex_flow": null,
      "grid_area": null,
      "grid_auto_columns": null,
      "grid_auto_flow": null,
      "grid_auto_rows": null,
      "grid_column": null,
      "grid_gap": null,
      "grid_row": null,
      "grid_template_areas": null,
      "grid_template_columns": null,
      "grid_template_rows": null,
      "height": null,
      "justify_content": null,
      "justify_items": null,
      "left": null,
      "margin": null,
      "max_height": null,
      "max_width": null,
      "min_height": null,
      "min_width": null,
      "object_fit": null,
      "object_position": null,
      "order": null,
      "overflow": null,
      "overflow_x": null,
      "overflow_y": null,
      "padding": null,
      "right": null,
      "top": null,
      "visibility": null,
      "width": null
     }
    },
    "3385eb158264490a8354d6cc92169a09": {
     "model_module": "@jupyter-widgets/controls",
     "model_module_version": "1.5.0",
     "model_name": "HTMLModel",
     "state": {
      "_dom_classes": [],
      "_model_module": "@jupyter-widgets/controls",
      "_model_module_version": "1.5.0",
      "_model_name": "HTMLModel",
      "_view_count": null,
      "_view_module": "@jupyter-widgets/controls",
      "_view_module_version": "1.5.0",
      "_view_name": "HTMLView",
      "description": "",
      "description_tooltip": null,
      "layout": "IPY_MODEL_51bd5be931994d25a79a9739ad06a87d",
      "placeholder": "​",
      "style": "IPY_MODEL_77cb5f6971bb4c3ca2edddd32bfa3ab2",
      "value": " 24/24 [00:00&lt;00:00, 2324.73it/s]"
     }
    },
    "3b9704485f324742aaad0159fed4cdf3": {
     "model_module": "@jupyter-widgets/base",
     "model_module_version": "1.2.0",
     "model_name": "LayoutModel",
     "state": {
      "_model_module": "@jupyter-widgets/base",
      "_model_module_version": "1.2.0",
      "_model_name": "LayoutModel",
      "_view_count": null,
      "_view_module": "@jupyter-widgets/base",
      "_view_module_version": "1.2.0",
      "_view_name": "LayoutView",
      "align_content": null,
      "align_items": null,
      "align_self": null,
      "border": null,
      "bottom": null,
      "display": null,
      "flex": null,
      "flex_flow": null,
      "grid_area": null,
      "grid_auto_columns": null,
      "grid_auto_flow": null,
      "grid_auto_rows": null,
      "grid_column": null,
      "grid_gap": null,
      "grid_row": null,
      "grid_template_areas": null,
      "grid_template_columns": null,
      "grid_template_rows": null,
      "height": null,
      "justify_content": null,
      "justify_items": null,
      "left": null,
      "margin": null,
      "max_height": null,
      "max_width": null,
      "min_height": null,
      "min_width": null,
      "object_fit": null,
      "object_position": null,
      "order": null,
      "overflow": null,
      "overflow_x": null,
      "overflow_y": null,
      "padding": null,
      "right": null,
      "top": null,
      "visibility": null,
      "width": null
     }
    },
    "4fea1d91d6854571857a30d82d94a98b": {
     "model_module": "@jupyter-widgets/controls",
     "model_module_version": "1.5.0",
     "model_name": "ProgressStyleModel",
     "state": {
      "_model_module": "@jupyter-widgets/controls",
      "_model_module_version": "1.5.0",
      "_model_name": "ProgressStyleModel",
      "_view_count": null,
      "_view_module": "@jupyter-widgets/base",
      "_view_module_version": "1.2.0",
      "_view_name": "StyleView",
      "bar_color": null,
      "description_width": ""
     }
    },
    "51bd5be931994d25a79a9739ad06a87d": {
     "model_module": "@jupyter-widgets/base",
     "model_module_version": "1.2.0",
     "model_name": "LayoutModel",
     "state": {
      "_model_module": "@jupyter-widgets/base",
      "_model_module_version": "1.2.0",
      "_model_name": "LayoutModel",
      "_view_count": null,
      "_view_module": "@jupyter-widgets/base",
      "_view_module_version": "1.2.0",
      "_view_name": "LayoutView",
      "align_content": null,
      "align_items": null,
      "align_self": null,
      "border": null,
      "bottom": null,
      "display": null,
      "flex": null,
      "flex_flow": null,
      "grid_area": null,
      "grid_auto_columns": null,
      "grid_auto_flow": null,
      "grid_auto_rows": null,
      "grid_column": null,
      "grid_gap": null,
      "grid_row": null,
      "grid_template_areas": null,
      "grid_template_columns": null,
      "grid_template_rows": null,
      "height": null,
      "justify_content": null,
      "justify_items": null,
      "left": null,
      "margin": null,
      "max_height": null,
      "max_width": null,
      "min_height": null,
      "min_width": null,
      "object_fit": null,
      "object_position": null,
      "order": null,
      "overflow": null,
      "overflow_x": null,
      "overflow_y": null,
      "padding": null,
      "right": null,
      "top": null,
      "visibility": null,
      "width": null
     }
    },
    "5677591d9ff64f4291b64a29e0ceab61": {
     "model_module": "@jupyter-widgets/controls",
     "model_module_version": "1.5.0",
     "model_name": "DescriptionStyleModel",
     "state": {
      "_model_module": "@jupyter-widgets/controls",
      "_model_module_version": "1.5.0",
      "_model_name": "DescriptionStyleModel",
      "_view_count": null,
      "_view_module": "@jupyter-widgets/base",
      "_view_module_version": "1.2.0",
      "_view_name": "StyleView",
      "description_width": ""
     }
    },
    "59002520f5054ffa9d064f590c43c1a8": {
     "model_module": "@jupyter-widgets/controls",
     "model_module_version": "1.5.0",
     "model_name": "ProgressStyleModel",
     "state": {
      "_model_module": "@jupyter-widgets/controls",
      "_model_module_version": "1.5.0",
      "_model_name": "ProgressStyleModel",
      "_view_count": null,
      "_view_module": "@jupyter-widgets/base",
      "_view_module_version": "1.2.0",
      "_view_name": "StyleView",
      "bar_color": null,
      "description_width": ""
     }
    },
    "67f0c421c61d409bb81d9bc430d72ed5": {
     "model_module": "@jupyter-widgets/controls",
     "model_module_version": "1.5.0",
     "model_name": "DescriptionStyleModel",
     "state": {
      "_model_module": "@jupyter-widgets/controls",
      "_model_module_version": "1.5.0",
      "_model_name": "DescriptionStyleModel",
      "_view_count": null,
      "_view_module": "@jupyter-widgets/base",
      "_view_module_version": "1.2.0",
      "_view_name": "StyleView",
      "description_width": ""
     }
    },
    "6c5ce3ab1f044c60b73d9cd96f9ca881": {
     "model_module": "@jupyter-widgets/base",
     "model_module_version": "1.2.0",
     "model_name": "LayoutModel",
     "state": {
      "_model_module": "@jupyter-widgets/base",
      "_model_module_version": "1.2.0",
      "_model_name": "LayoutModel",
      "_view_count": null,
      "_view_module": "@jupyter-widgets/base",
      "_view_module_version": "1.2.0",
      "_view_name": "LayoutView",
      "align_content": null,
      "align_items": null,
      "align_self": null,
      "border": null,
      "bottom": null,
      "display": null,
      "flex": null,
      "flex_flow": null,
      "grid_area": null,
      "grid_auto_columns": null,
      "grid_auto_flow": null,
      "grid_auto_rows": null,
      "grid_column": null,
      "grid_gap": null,
      "grid_row": null,
      "grid_template_areas": null,
      "grid_template_columns": null,
      "grid_template_rows": null,
      "height": null,
      "justify_content": null,
      "justify_items": null,
      "left": null,
      "margin": null,
      "max_height": null,
      "max_width": null,
      "min_height": null,
      "min_width": null,
      "object_fit": null,
      "object_position": null,
      "order": null,
      "overflow": null,
      "overflow_x": null,
      "overflow_y": null,
      "padding": null,
      "right": null,
      "top": null,
      "visibility": null,
      "width": null
     }
    },
    "70343d0319ce42c89f0372890948223a": {
     "model_module": "@jupyter-widgets/base",
     "model_module_version": "1.2.0",
     "model_name": "LayoutModel",
     "state": {
      "_model_module": "@jupyter-widgets/base",
      "_model_module_version": "1.2.0",
      "_model_name": "LayoutModel",
      "_view_count": null,
      "_view_module": "@jupyter-widgets/base",
      "_view_module_version": "1.2.0",
      "_view_name": "LayoutView",
      "align_content": null,
      "align_items": null,
      "align_self": null,
      "border": null,
      "bottom": null,
      "display": null,
      "flex": null,
      "flex_flow": null,
      "grid_area": null,
      "grid_auto_columns": null,
      "grid_auto_flow": null,
      "grid_auto_rows": null,
      "grid_column": null,
      "grid_gap": null,
      "grid_row": null,
      "grid_template_areas": null,
      "grid_template_columns": null,
      "grid_template_rows": null,
      "height": null,
      "justify_content": null,
      "justify_items": null,
      "left": null,
      "margin": null,
      "max_height": null,
      "max_width": null,
      "min_height": null,
      "min_width": null,
      "object_fit": null,
      "object_position": null,
      "order": null,
      "overflow": null,
      "overflow_x": null,
      "overflow_y": null,
      "padding": null,
      "right": null,
      "top": null,
      "visibility": null,
      "width": null
     }
    },
    "77cb5f6971bb4c3ca2edddd32bfa3ab2": {
     "model_module": "@jupyter-widgets/controls",
     "model_module_version": "1.5.0",
     "model_name": "DescriptionStyleModel",
     "state": {
      "_model_module": "@jupyter-widgets/controls",
      "_model_module_version": "1.5.0",
      "_model_name": "DescriptionStyleModel",
      "_view_count": null,
      "_view_module": "@jupyter-widgets/base",
      "_view_module_version": "1.2.0",
      "_view_name": "StyleView",
      "description_width": ""
     }
    },
    "92151ae570d44f3b8adf86b353a2a29e": {
     "model_module": "@jupyter-widgets/controls",
     "model_module_version": "1.5.0",
     "model_name": "DescriptionStyleModel",
     "state": {
      "_model_module": "@jupyter-widgets/controls",
      "_model_module_version": "1.5.0",
      "_model_name": "DescriptionStyleModel",
      "_view_count": null,
      "_view_module": "@jupyter-widgets/base",
      "_view_module_version": "1.2.0",
      "_view_name": "StyleView",
      "description_width": ""
     }
    },
    "976a9affdb634ded87047e84b2bbaf76": {
     "model_module": "@jupyter-widgets/controls",
     "model_module_version": "1.5.0",
     "model_name": "FloatProgressModel",
     "state": {
      "_dom_classes": [],
      "_model_module": "@jupyter-widgets/controls",
      "_model_module_version": "1.5.0",
      "_model_name": "FloatProgressModel",
      "_view_count": null,
      "_view_module": "@jupyter-widgets/controls",
      "_view_module_version": "1.5.0",
      "_view_name": "ProgressView",
      "bar_style": "success",
      "description": "",
      "description_tooltip": null,
      "layout": "IPY_MODEL_edfc54251821484289953c3f7fc422f3",
      "max": 24,
      "min": 0,
      "orientation": "horizontal",
      "style": "IPY_MODEL_4fea1d91d6854571857a30d82d94a98b",
      "value": 24
     }
    },
    "9aa51369a2614879af61a04f8ec4e134": {
     "model_module": "@jupyter-widgets/base",
     "model_module_version": "1.2.0",
     "model_name": "LayoutModel",
     "state": {
      "_model_module": "@jupyter-widgets/base",
      "_model_module_version": "1.2.0",
      "_model_name": "LayoutModel",
      "_view_count": null,
      "_view_module": "@jupyter-widgets/base",
      "_view_module_version": "1.2.0",
      "_view_name": "LayoutView",
      "align_content": null,
      "align_items": null,
      "align_self": null,
      "border": null,
      "bottom": null,
      "display": null,
      "flex": null,
      "flex_flow": null,
      "grid_area": null,
      "grid_auto_columns": null,
      "grid_auto_flow": null,
      "grid_auto_rows": null,
      "grid_column": null,
      "grid_gap": null,
      "grid_row": null,
      "grid_template_areas": null,
      "grid_template_columns": null,
      "grid_template_rows": null,
      "height": null,
      "justify_content": null,
      "justify_items": null,
      "left": null,
      "margin": null,
      "max_height": null,
      "max_width": null,
      "min_height": null,
      "min_width": null,
      "object_fit": null,
      "object_position": null,
      "order": null,
      "overflow": null,
      "overflow_x": null,
      "overflow_y": null,
      "padding": null,
      "right": null,
      "top": null,
      "visibility": null,
      "width": null
     }
    },
    "a629531f1ace47e98bf01764597137cb": {
     "model_module": "@jupyter-widgets/controls",
     "model_module_version": "1.5.0",
     "model_name": "HBoxModel",
     "state": {
      "_dom_classes": [],
      "_model_module": "@jupyter-widgets/controls",
      "_model_module_version": "1.5.0",
      "_model_name": "HBoxModel",
      "_view_count": null,
      "_view_module": "@jupyter-widgets/controls",
      "_view_module_version": "1.5.0",
      "_view_name": "HBoxView",
      "box_style": "",
      "children": [
       "IPY_MODEL_af858eaf950f483e9b7e641f50d7dabb",
       "IPY_MODEL_976a9affdb634ded87047e84b2bbaf76",
       "IPY_MODEL_3385eb158264490a8354d6cc92169a09"
      ],
      "layout": "IPY_MODEL_3b9704485f324742aaad0159fed4cdf3"
     }
    },
    "a6d7cddf5e9f434e825f2124c27e4da2": {
     "model_module": "@jupyter-widgets/controls",
     "model_module_version": "1.5.0",
     "model_name": "HTMLModel",
     "state": {
      "_dom_classes": [],
      "_model_module": "@jupyter-widgets/controls",
      "_model_module_version": "1.5.0",
      "_model_name": "HTMLModel",
      "_view_count": null,
      "_view_module": "@jupyter-widgets/controls",
      "_view_module_version": "1.5.0",
      "_view_name": "HTMLView",
      "description": "",
      "description_tooltip": null,
      "layout": "IPY_MODEL_c62dddd771c3420ba9ae4f56f0a84d14",
      "placeholder": "​",
      "style": "IPY_MODEL_e44f80290f0347f990e967198d4e5a78",
      "value": " 2.46k/2.46k [00:00&lt;00:00, 212kB/s]"
     }
    },
    "a78613a05002412e9e6b5f7316e0544e": {
     "model_module": "@jupyter-widgets/base",
     "model_module_version": "1.2.0",
     "model_name": "LayoutModel",
     "state": {
      "_model_module": "@jupyter-widgets/base",
      "_model_module_version": "1.2.0",
      "_model_name": "LayoutModel",
      "_view_count": null,
      "_view_module": "@jupyter-widgets/base",
      "_view_module_version": "1.2.0",
      "_view_name": "LayoutView",
      "align_content": null,
      "align_items": null,
      "align_self": null,
      "border": null,
      "bottom": null,
      "display": null,
      "flex": null,
      "flex_flow": null,
      "grid_area": null,
      "grid_auto_columns": null,
      "grid_auto_flow": null,
      "grid_auto_rows": null,
      "grid_column": null,
      "grid_gap": null,
      "grid_row": null,
      "grid_template_areas": null,
      "grid_template_columns": null,
      "grid_template_rows": null,
      "height": null,
      "justify_content": null,
      "justify_items": null,
      "left": null,
      "margin": null,
      "max_height": null,
      "max_width": null,
      "min_height": null,
      "min_width": null,
      "object_fit": null,
      "object_position": null,
      "order": null,
      "overflow": null,
      "overflow_x": null,
      "overflow_y": null,
      "padding": null,
      "right": null,
      "top": null,
      "visibility": null,
      "width": null
     }
    },
    "af858eaf950f483e9b7e641f50d7dabb": {
     "model_module": "@jupyter-widgets/controls",
     "model_module_version": "1.5.0",
     "model_name": "HTMLModel",
     "state": {
      "_dom_classes": [],
      "_model_module": "@jupyter-widgets/controls",
      "_model_module_version": "1.5.0",
      "_model_name": "HTMLModel",
      "_view_count": null,
      "_view_module": "@jupyter-widgets/controls",
      "_view_module_version": "1.5.0",
      "_view_name": "HTMLView",
      "description": "",
      "description_tooltip": null,
      "layout": "IPY_MODEL_a78613a05002412e9e6b5f7316e0544e",
      "placeholder": "​",
      "style": "IPY_MODEL_5677591d9ff64f4291b64a29e0ceab61",
      "value": "Resolving data files: 100%"
     }
    },
    "b7244bba1f5140b2a82864b3693fc8e9": {
     "model_module": "@jupyter-widgets/base",
     "model_module_version": "1.2.0",
     "model_name": "LayoutModel",
     "state": {
      "_model_module": "@jupyter-widgets/base",
      "_model_module_version": "1.2.0",
      "_model_name": "LayoutModel",
      "_view_count": null,
      "_view_module": "@jupyter-widgets/base",
      "_view_module_version": "1.2.0",
      "_view_name": "LayoutView",
      "align_content": null,
      "align_items": null,
      "align_self": null,
      "border": null,
      "bottom": null,
      "display": null,
      "flex": null,
      "flex_flow": null,
      "grid_area": null,
      "grid_auto_columns": null,
      "grid_auto_flow": null,
      "grid_auto_rows": null,
      "grid_column": null,
      "grid_gap": null,
      "grid_row": null,
      "grid_template_areas": null,
      "grid_template_columns": null,
      "grid_template_rows": null,
      "height": null,
      "justify_content": null,
      "justify_items": null,
      "left": null,
      "margin": null,
      "max_height": null,
      "max_width": null,
      "min_height": null,
      "min_width": null,
      "object_fit": null,
      "object_position": null,
      "order": null,
      "overflow": null,
      "overflow_x": null,
      "overflow_y": null,
      "padding": null,
      "right": null,
      "top": null,
      "visibility": null,
      "width": null
     }
    },
    "c1426369553c4f52a1eda9d79889319b": {
     "model_module": "@jupyter-widgets/controls",
     "model_module_version": "1.5.0",
     "model_name": "FloatProgressModel",
     "state": {
      "_dom_classes": [],
      "_model_module": "@jupyter-widgets/controls",
      "_model_module_version": "1.5.0",
      "_model_name": "FloatProgressModel",
      "_view_count": null,
      "_view_module": "@jupyter-widgets/controls",
      "_view_module_version": "1.5.0",
      "_view_name": "ProgressView",
      "bar_style": "success",
      "description": "",
      "description_tooltip": null,
      "layout": "IPY_MODEL_b7244bba1f5140b2a82864b3693fc8e9",
      "max": 2458,
      "min": 0,
      "orientation": "horizontal",
      "style": "IPY_MODEL_014560afa2224ed399f5d0068a51326c",
      "value": 2458
     }
    },
    "c5094d5a479b4287ac740414f3147bc7": {
     "model_module": "@jupyter-widgets/controls",
     "model_module_version": "1.5.0",
     "model_name": "HBoxModel",
     "state": {
      "_dom_classes": [],
      "_model_module": "@jupyter-widgets/controls",
      "_model_module_version": "1.5.0",
      "_model_name": "HBoxModel",
      "_view_count": null,
      "_view_module": "@jupyter-widgets/controls",
      "_view_module_version": "1.5.0",
      "_view_name": "HBoxView",
      "box_style": "",
      "children": [
       "IPY_MODEL_f011cecad8aa497092c9a82176559910",
       "IPY_MODEL_c1426369553c4f52a1eda9d79889319b",
       "IPY_MODEL_a6d7cddf5e9f434e825f2124c27e4da2"
      ],
      "layout": "IPY_MODEL_9aa51369a2614879af61a04f8ec4e134"
     }
    },
    "c62dddd771c3420ba9ae4f56f0a84d14": {
     "model_module": "@jupyter-widgets/base",
     "model_module_version": "1.2.0",
     "model_name": "LayoutModel",
     "state": {
      "_model_module": "@jupyter-widgets/base",
      "_model_module_version": "1.2.0",
      "_model_name": "LayoutModel",
      "_view_count": null,
      "_view_module": "@jupyter-widgets/base",
      "_view_module_version": "1.2.0",
      "_view_name": "LayoutView",
      "align_content": null,
      "align_items": null,
      "align_self": null,
      "border": null,
      "bottom": null,
      "display": null,
      "flex": null,
      "flex_flow": null,
      "grid_area": null,
      "grid_auto_columns": null,
      "grid_auto_flow": null,
      "grid_auto_rows": null,
      "grid_column": null,
      "grid_gap": null,
      "grid_row": null,
      "grid_template_areas": null,
      "grid_template_columns": null,
      "grid_template_rows": null,
      "height": null,
      "justify_content": null,
      "justify_items": null,
      "left": null,
      "margin": null,
      "max_height": null,
      "max_width": null,
      "min_height": null,
      "min_width": null,
      "object_fit": null,
      "object_position": null,
      "order": null,
      "overflow": null,
      "overflow_x": null,
      "overflow_y": null,
      "padding": null,
      "right": null,
      "top": null,
      "visibility": null,
      "width": null
     }
    },
    "ca18a1de18a846fb8683fc53ac634448": {
     "model_module": "@jupyter-widgets/controls",
     "model_module_version": "1.5.0",
     "model_name": "HBoxModel",
     "state": {
      "_dom_classes": [],
      "_model_module": "@jupyter-widgets/controls",
      "_model_module_version": "1.5.0",
      "_model_name": "HBoxModel",
      "_view_count": null,
      "_view_module": "@jupyter-widgets/controls",
      "_view_module_version": "1.5.0",
      "_view_name": "HBoxView",
      "box_style": "",
      "children": [
       "IPY_MODEL_e99777fa8e4f40dc9c4631d45e75dc3f",
       "IPY_MODEL_28b2c9844c0c4822977c87044bbecde7",
       "IPY_MODEL_126e2261a302497faf0e7a8b70adba24"
      ],
      "layout": "IPY_MODEL_ef365013216046d38b271aa4654c2b6c"
     }
    },
    "e44f80290f0347f990e967198d4e5a78": {
     "model_module": "@jupyter-widgets/controls",
     "model_module_version": "1.5.0",
     "model_name": "DescriptionStyleModel",
     "state": {
      "_model_module": "@jupyter-widgets/controls",
      "_model_module_version": "1.5.0",
      "_model_name": "DescriptionStyleModel",
      "_view_count": null,
      "_view_module": "@jupyter-widgets/base",
      "_view_module_version": "1.2.0",
      "_view_name": "StyleView",
      "description_width": ""
     }
    },
    "e99777fa8e4f40dc9c4631d45e75dc3f": {
     "model_module": "@jupyter-widgets/controls",
     "model_module_version": "1.5.0",
     "model_name": "HTMLModel",
     "state": {
      "_dom_classes": [],
      "_model_module": "@jupyter-widgets/controls",
      "_model_module_version": "1.5.0",
      "_model_name": "HTMLModel",
      "_view_count": null,
      "_view_module": "@jupyter-widgets/controls",
      "_view_module_version": "1.5.0",
      "_view_name": "HTMLView",
      "description": "",
      "description_tooltip": null,
      "layout": "IPY_MODEL_6c5ce3ab1f044c60b73d9cd96f9ca881",
      "placeholder": "​",
      "style": "IPY_MODEL_67f0c421c61d409bb81d9bc430d72ed5",
      "value": "Resolving data files: 100%"
     }
    },
    "edfc54251821484289953c3f7fc422f3": {
     "model_module": "@jupyter-widgets/base",
     "model_module_version": "1.2.0",
     "model_name": "LayoutModel",
     "state": {
      "_model_module": "@jupyter-widgets/base",
      "_model_module_version": "1.2.0",
      "_model_name": "LayoutModel",
      "_view_count": null,
      "_view_module": "@jupyter-widgets/base",
      "_view_module_version": "1.2.0",
      "_view_name": "LayoutView",
      "align_content": null,
      "align_items": null,
      "align_self": null,
      "border": null,
      "bottom": null,
      "display": null,
      "flex": null,
      "flex_flow": null,
      "grid_area": null,
      "grid_auto_columns": null,
      "grid_auto_flow": null,
      "grid_auto_rows": null,
      "grid_column": null,
      "grid_gap": null,
      "grid_row": null,
      "grid_template_areas": null,
      "grid_template_columns": null,
      "grid_template_rows": null,
      "height": null,
      "justify_content": null,
      "justify_items": null,
      "left": null,
      "margin": null,
      "max_height": null,
      "max_width": null,
      "min_height": null,
      "min_width": null,
      "object_fit": null,
      "object_position": null,
      "order": null,
      "overflow": null,
      "overflow_x": null,
      "overflow_y": null,
      "padding": null,
      "right": null,
      "top": null,
      "visibility": null,
      "width": null
     }
    },
    "ef365013216046d38b271aa4654c2b6c": {
     "model_module": "@jupyter-widgets/base",
     "model_module_version": "1.2.0",
     "model_name": "LayoutModel",
     "state": {
      "_model_module": "@jupyter-widgets/base",
      "_model_module_version": "1.2.0",
      "_model_name": "LayoutModel",
      "_view_count": null,
      "_view_module": "@jupyter-widgets/base",
      "_view_module_version": "1.2.0",
      "_view_name": "LayoutView",
      "align_content": null,
      "align_items": null,
      "align_self": null,
      "border": null,
      "bottom": null,
      "display": null,
      "flex": null,
      "flex_flow": null,
      "grid_area": null,
      "grid_auto_columns": null,
      "grid_auto_flow": null,
      "grid_auto_rows": null,
      "grid_column": null,
      "grid_gap": null,
      "grid_row": null,
      "grid_template_areas": null,
      "grid_template_columns": null,
      "grid_template_rows": null,
      "height": null,
      "justify_content": null,
      "justify_items": null,
      "left": null,
      "margin": null,
      "max_height": null,
      "max_width": null,
      "min_height": null,
      "min_width": null,
      "object_fit": null,
      "object_position": null,
      "order": null,
      "overflow": null,
      "overflow_x": null,
      "overflow_y": null,
      "padding": null,
      "right": null,
      "top": null,
      "visibility": null,
      "width": null
     }
    },
    "f011cecad8aa497092c9a82176559910": {
     "model_module": "@jupyter-widgets/controls",
     "model_module_version": "1.5.0",
     "model_name": "HTMLModel",
     "state": {
      "_dom_classes": [],
      "_model_module": "@jupyter-widgets/controls",
      "_model_module_version": "1.5.0",
      "_model_name": "HTMLModel",
      "_view_count": null,
      "_view_module": "@jupyter-widgets/controls",
      "_view_module_version": "1.5.0",
      "_view_name": "HTMLView",
      "description": "",
      "description_tooltip": null,
      "layout": "IPY_MODEL_2f0447b999f349029446ecb7461bf1d6",
      "placeholder": "​",
      "style": "IPY_MODEL_92151ae570d44f3b8adf86b353a2a29e",
      "value": "README.md: 100%"
     }
    },
    "f501f74d21af4ac69c05161d07f61dba": {
     "model_module": "@jupyter-widgets/controls",
     "model_module_version": "1.5.0",
     "model_name": "DescriptionStyleModel",
     "state": {
      "_model_module": "@jupyter-widgets/controls",
      "_model_module_version": "1.5.0",
      "_model_name": "DescriptionStyleModel",
      "_view_count": null,
      "_view_module": "@jupyter-widgets/base",
      "_view_module_version": "1.2.0",
      "_view_name": "StyleView",
      "description_width": ""
     }
    }
   }
  }
 },
 "nbformat": 4,
 "nbformat_minor": 0
}
